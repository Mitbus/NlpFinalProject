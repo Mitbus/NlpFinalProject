{
 "cells": [
  {
   "cell_type": "code",
   "execution_count": 1,
   "metadata": {
    "execution": {
     "iopub.execute_input": "2023-12-11T09:08:25.281313Z",
     "iopub.status.busy": "2023-12-11T09:08:25.280576Z",
     "iopub.status.idle": "2023-12-11T09:10:56.482355Z",
     "shell.execute_reply": "2023-12-11T09:10:56.481603Z",
     "shell.execute_reply.started": "2023-12-11T08:08:51.727502Z"
    },
    "papermill": {
     "duration": 151.243058,
     "end_time": "2023-12-11T09:10:56.482482",
     "exception": false,
     "start_time": "2023-12-11T09:08:25.239424",
     "status": "completed"
    },
    "tags": []
   },
   "outputs": [
    {
     "name": "stdout",
     "output_type": "stream",
     "text": [
      "Found existing installation: allennlp 1.2.0\r\n",
      "Uninstalling allennlp-1.2.0:\r\n",
      "  Successfully uninstalled allennlp-1.2.0\r\n",
      "\u001b[31mERROR: After October 2020 you may experience errors when installing or updating packages. This is because pip will change the way that it resolves dependency conflicts.\r\n",
      "\r\n",
      "We recommend you use --use-feature=2020-resolver to test your packages with the new resolver before it becomes the default.\r\n",
      "\r\n",
      "fastai 2.0.18 requires torch<1.7,>=1.6, but you'll have torch 1.13.1+cu117 which is incompatible.\u001b[0m\r\n",
      "\u001b[33mWARNING: You are using pip version 20.2.4; however, version 23.3.1 is available.\r\n",
      "You should consider upgrading via the '/opt/conda/bin/python3.7 -m pip install --upgrade pip' command.\u001b[0m\r\n",
      "\u001b[31mERROR: After October 2020 you may experience errors when installing or updating packages. This is because pip will change the way that it resolves dependency conflicts.\r\n",
      "\r\n",
      "We recommend you use --use-feature=2020-resolver to test your packages with the new resolver before it becomes the default.\r\n",
      "\r\n",
      "fastai 2.0.18 requires torch<1.7,>=1.6, but you'll have torch 1.13.1+cu117 which is incompatible.\r\n",
      "bokeh 2.2.3 requires tornado>=5.1, but you'll have tornado 5.0.2 which is incompatible.\r\n",
      "aiobotocore 1.1.2 requires botocore<1.17.45,>=1.17.44, but you'll have botocore 1.19.8 which is incompatible.\r\n",
      "huggingface-hub 0.16.4 requires packaging>=20.9, but you'll have packaging 20.1 which is incompatible.\r\n",
      "datasets 1.16.0 requires tqdm>=4.62.1, but you'll have tqdm 4.45.0 which is incompatible.\u001b[0m\r\n",
      "\u001b[33mWARNING: You are using pip version 20.2.4; however, version 23.3.1 is available.\r\n",
      "You should consider upgrading via the '/opt/conda/bin/python3.7 -m pip install --upgrade pip' command.\u001b[0m\r\n",
      "\u001b[31mERROR: After October 2020 you may experience errors when installing or updating packages. This is because pip will change the way that it resolves dependency conflicts.\r\n",
      "\r\n",
      "We recommend you use --use-feature=2020-resolver to test your packages with the new resolver before it becomes the default.\r\n",
      "\r\n",
      "huggingface-hub 0.16.4 requires packaging>=20.9, but you'll have packaging 20.1 which is incompatible.\r\n",
      "datasets 1.16.0 requires tqdm>=4.62.1, but you'll have tqdm 4.45.0 which is incompatible.\r\n",
      "boto3 1.16.8 requires botocore<1.20.0,>=1.19.8, but you'll have botocore 1.20.106 which is incompatible.\u001b[0m\r\n",
      "\u001b[33mWARNING: You are using pip version 20.2.4; however, version 23.3.1 is available.\r\n",
      "You should consider upgrading via the '/opt/conda/bin/python3.7 -m pip install --upgrade pip' command.\u001b[0m\r\n",
      "\u001b[33mWARNING: You are using pip version 20.2.4; however, version 23.3.1 is available.\r\n",
      "You should consider upgrading via the '/opt/conda/bin/python3.7 -m pip install --upgrade pip' command.\u001b[0m\r\n"
     ]
    }
   ],
   "source": [
    "!pip uninstall -y allennlp\n",
    "!pip install \"torch==1.13.1+cu117\" --extra-index-url https://download.pytorch.org/whl/cu117 --upgrade --quiet\n",
    "!pip install -q \"transformers==4.27.4\" \"datasets==1.16.0\" huggingface_hub peft\n",
    "!pip install -q \"s3fs==2021.10\" \"fsspec==2021.10\"\n",
    "!pip install -U accelerate>=0.21.0\n",
    "\n",
    "# !git clone https://github.com/NVIDIA/apex\n",
    "# !cd apex && pip install -q -v --disable-pip-version-check --no-cache-dir --no-build-isolation --config-settings \"--build-option=--cpp_ext\" --config-settings \"--build-option=--cuda_ext\" ./\n",
    "# !cd apex && pip install -q -v --disable-pip-version-check --no-cache-dir --no-build-isolation --global-option=\"--cpp_ext\" --global-option=\"--cuda_ext\" ./"
   ]
  },
  {
   "cell_type": "code",
   "execution_count": 2,
   "metadata": {
    "execution": {
     "iopub.execute_input": "2023-12-11T09:10:56.545522Z",
     "iopub.status.busy": "2023-12-11T09:10:56.544831Z",
     "iopub.status.idle": "2023-12-11T09:10:58.735573Z",
     "shell.execute_reply": "2023-12-11T09:10:58.734811Z",
     "shell.execute_reply.started": "2023-12-11T08:11:48.688523Z"
    },
    "papermill": {
     "duration": 2.224316,
     "end_time": "2023-12-11T09:10:58.735702",
     "exception": false,
     "start_time": "2023-12-11T09:10:56.511386",
     "status": "completed"
    },
    "tags": []
   },
   "outputs": [
    {
     "data": {
      "text/plain": [
       "('1.13.1+cu117', '4.27.4')"
      ]
     },
     "execution_count": 2,
     "metadata": {},
     "output_type": "execute_result"
    }
   ],
   "source": [
    "from datasets import load_dataset\n",
    "import torch, transformers\n",
    "torch.__version__, transformers.__version__"
   ]
  },
  {
   "cell_type": "markdown",
   "metadata": {
    "papermill": {
     "duration": 0.028565,
     "end_time": "2023-12-11T09:10:58.792994",
     "exception": false,
     "start_time": "2023-12-11T09:10:58.764429",
     "status": "completed"
    },
    "tags": []
   },
   "source": [
    "# New model"
   ]
  },
  {
   "cell_type": "code",
   "execution_count": 3,
   "metadata": {
    "_cell_guid": "b1076dfc-b9ad-4769-8c92-a6c4dae69d19",
    "_uuid": "8f2839f25d086af736a60e9eeb907d3b93b6e0e5",
    "execution": {
     "iopub.execute_input": "2023-12-11T09:10:58.857333Z",
     "iopub.status.busy": "2023-12-11T09:10:58.856659Z",
     "iopub.status.idle": "2023-12-11T09:11:57.052960Z",
     "shell.execute_reply": "2023-12-11T09:11:57.053552Z",
     "shell.execute_reply.started": "2023-12-11T08:11:50.841350Z"
    },
    "papermill": {
     "duration": 58.231692,
     "end_time": "2023-12-11T09:11:57.053709",
     "exception": false,
     "start_time": "2023-12-11T09:10:58.822017",
     "status": "completed"
    },
    "tags": []
   },
   "outputs": [
    {
     "data": {
      "application/vnd.jupyter.widget-view+json": {
       "model_id": "751b4662d27b45d99d9365940dcabf08",
       "version_major": 2,
       "version_minor": 0
      },
      "text/plain": [
       "HBox(children=(FloatProgress(value=0.0, description='Downloading vocab.json', max=1713123.0, style=ProgressSty…"
      ]
     },
     "metadata": {},
     "output_type": "display_data"
    },
    {
     "name": "stdout",
     "output_type": "stream",
     "text": [
      "\n"
     ]
    },
    {
     "data": {
      "application/vnd.jupyter.widget-view+json": {
       "model_id": "2d58e079af8d49b8b01d0bf1a3b41bc6",
       "version_major": 2,
       "version_minor": 0
      },
      "text/plain": [
       "HBox(children=(FloatProgress(value=0.0, description='Downloading merges.txt', max=1270925.0, style=ProgressSty…"
      ]
     },
     "metadata": {},
     "output_type": "display_data"
    },
    {
     "name": "stdout",
     "output_type": "stream",
     "text": [
      "\n"
     ]
    },
    {
     "data": {
      "application/vnd.jupyter.widget-view+json": {
       "model_id": "46a4fa608c4a44a8984ff92f658032c5",
       "version_major": 2,
       "version_minor": 0
      },
      "text/plain": [
       "HBox(children=(FloatProgress(value=0.0, description='Downloading added_tokens.json', max=2501.0, style=Progres…"
      ]
     },
     "metadata": {},
     "output_type": "display_data"
    },
    {
     "name": "stdout",
     "output_type": "stream",
     "text": [
      "\n"
     ]
    },
    {
     "data": {
      "application/vnd.jupyter.widget-view+json": {
       "model_id": "8eb65e5a08464f17a70747eeb0e73f06",
       "version_major": 2,
       "version_minor": 0
      },
      "text/plain": [
       "HBox(children=(FloatProgress(value=0.0, description='Downloading (…)cial_tokens_map.json', max=574.0, style=Pr…"
      ]
     },
     "metadata": {},
     "output_type": "display_data"
    },
    {
     "name": "stdout",
     "output_type": "stream",
     "text": [
      "\n"
     ]
    },
    {
     "data": {
      "application/vnd.jupyter.widget-view+json": {
       "model_id": "78538b65ddff4c1fbbd9cab99c699c7b",
       "version_major": 2,
       "version_minor": 0
      },
      "text/plain": [
       "HBox(children=(FloatProgress(value=0.0, description='Downloading tokenizer_config.json', max=20215.0, style=Pr…"
      ]
     },
     "metadata": {},
     "output_type": "display_data"
    },
    {
     "name": "stdout",
     "output_type": "stream",
     "text": [
      "\n"
     ]
    },
    {
     "data": {
      "application/vnd.jupyter.widget-view+json": {
       "model_id": "4a42939f88f44b2981229e3d5d6b1120",
       "version_major": 2,
       "version_minor": 0
      },
      "text/plain": [
       "HBox(children=(FloatProgress(value=0.0, description='Downloading config.json', max=653.0, style=ProgressStyle(…"
      ]
     },
     "metadata": {},
     "output_type": "display_data"
    },
    {
     "name": "stdout",
     "output_type": "stream",
     "text": [
      "\n"
     ]
    },
    {
     "data": {
      "application/vnd.jupyter.widget-view+json": {
       "model_id": "005e096537c2456492fe7dd2fe6a195f",
       "version_major": 2,
       "version_minor": 0
      },
      "text/plain": [
       "HBox(children=(FloatProgress(value=0.0, description='Downloading pytorch_model.bin', max=6961671585.0, style=P…"
      ]
     },
     "metadata": {},
     "output_type": "display_data"
    },
    {
     "name": "stdout",
     "output_type": "stream",
     "text": [
      "\n"
     ]
    },
    {
     "data": {
      "text/plain": [
       "'cuda'"
      ]
     },
     "execution_count": 3,
     "metadata": {},
     "output_type": "execute_result"
    }
   ],
   "source": [
    "import torch\n",
    "from transformers import GPT2Tokenizer, T5ForConditionalGeneration \n",
    "base_model = \"ai-forever/FRED-T5-1.7B\"\n",
    "device='cuda'\n",
    "tokenizer = GPT2Tokenizer.from_pretrained(base_model, eos_token='</s>')\n",
    "\n",
    "\n",
    "model = T5ForConditionalGeneration.from_pretrained(base_model)\n",
    "model.to(device)\n",
    "\n",
    "# optional\n",
    "# tokenizer.add_tokens(['<calculator>', '</calculator>', '####'])\n",
    "# model.resize_token_embeddings(len(tokenizer))\n",
    "\n",
    "device"
   ]
  },
  {
   "cell_type": "markdown",
   "metadata": {
    "papermill": {
     "duration": 0.03535,
     "end_time": "2023-12-11T09:11:57.124003",
     "exception": false,
     "start_time": "2023-12-11T09:11:57.088653",
     "status": "completed"
    },
    "tags": []
   },
   "source": [
    "# Load LoRA"
   ]
  },
  {
   "cell_type": "code",
   "execution_count": 4,
   "metadata": {
    "execution": {
     "iopub.execute_input": "2023-12-11T09:11:57.199387Z",
     "iopub.status.busy": "2023-12-11T09:11:57.198741Z",
     "iopub.status.idle": "2023-12-11T09:11:57.201353Z",
     "shell.execute_reply": "2023-12-11T09:11:57.200704Z",
     "shell.execute_reply.started": "2023-12-11T08:13:02.256468Z"
    },
    "papermill": {
     "duration": 0.04238,
     "end_time": "2023-12-11T09:11:57.201462",
     "exception": false,
     "start_time": "2023-12-11T09:11:57.159082",
     "status": "completed"
    },
    "tags": []
   },
   "outputs": [],
   "source": [
    "# from peft import PeftModel\n",
    "\n",
    "# adapters_name = '/kaggle/input/t5-1-7b-lora/peft-checkpoint-v2'\n",
    "# model = PeftModel.from_pretrained(model, adapters_name)\n",
    "# model = model.merge_and_unload()"
   ]
  },
  {
   "cell_type": "code",
   "execution_count": 5,
   "metadata": {
    "execution": {
     "iopub.execute_input": "2023-12-11T09:11:57.275894Z",
     "iopub.status.busy": "2023-12-11T09:11:57.275246Z",
     "iopub.status.idle": "2023-12-11T09:11:57.277725Z",
     "shell.execute_reply": "2023-12-11T09:11:57.277078Z",
     "shell.execute_reply.started": "2023-12-11T08:17:24.285508Z"
    },
    "papermill": {
     "duration": 0.041598,
     "end_time": "2023-12-11T09:11:57.277843",
     "exception": false,
     "start_time": "2023-12-11T09:11:57.236245",
     "status": "completed"
    },
    "tags": []
   },
   "outputs": [],
   "source": [
    "# q = 'На халат уходит 2 рулона синего волокна и половина этого количества белого волокна. Сколько всего болтов нужно?'\n",
    "# lm_text=f'<SC6>Задача: {q}\\nРешение:<extra_id_0>####<extra_id_1>'\n",
    "# # lm_text=f'<LM>Задача: {q}\\nРешение:'\n",
    "\n",
    "# input_ids=torch.tensor([tokenizer.encode(lm_text)]).to(device)\n",
    "# outputs=model.generate(input_ids,\n",
    "#                             eos_token_id=tokenizer.eos_token_id,\n",
    "#                             early_stopping=True,\n",
    "#                             top_p=0.9,\n",
    "#                             temperature=0.05,\n",
    "#                             repetition_penalty=2.0,\n",
    "#                             min_length=10,\n",
    "#                             max_length=512\n",
    "#                       )\n",
    "# output = tokenizer.decode(outputs[0][1:])\n",
    "# print(output)"
   ]
  },
  {
   "cell_type": "markdown",
   "metadata": {
    "papermill": {
     "duration": 0.034627,
     "end_time": "2023-12-11T09:11:57.347204",
     "exception": false,
     "start_time": "2023-12-11T09:11:57.312577",
     "status": "completed"
    },
    "tags": []
   },
   "source": [
    "# Data processing"
   ]
  },
  {
   "cell_type": "code",
   "execution_count": 6,
   "metadata": {
    "_cell_guid": "79c7e3d0-c299-4dcb-8224-4455121ee9b0",
    "_uuid": "d629ff2d2480ee46fbb7e2d37f6b5fab8052498a",
    "execution": {
     "iopub.execute_input": "2023-12-11T09:11:57.425680Z",
     "iopub.status.busy": "2023-12-11T09:11:57.424967Z",
     "iopub.status.idle": "2023-12-11T09:11:58.371087Z",
     "shell.execute_reply": "2023-12-11T09:11:58.370483Z",
     "shell.execute_reply.started": "2023-12-03T11:47:00.217246Z"
    },
    "papermill": {
     "duration": 0.986979,
     "end_time": "2023-12-11T09:11:58.371231",
     "exception": false,
     "start_time": "2023-12-11T09:11:57.384252",
     "status": "completed"
    },
    "tags": []
   },
   "outputs": [
    {
     "name": "stdout",
     "output_type": "stream",
     "text": [
      "Downloading and preparing dataset csv/gsm-8k-ru to /root/.cache/huggingface/datasets/csv/gsm-8k-ru-8b519d935238902b/0.0.0/bf68a4c4aefa545d0712b2fcbb1b327f905bbe2f6425fbc5e8c25234acb9e14a...\n"
     ]
    },
    {
     "data": {
      "application/vnd.jupyter.widget-view+json": {
       "model_id": "99acc688522b4b158b393e001e19f04c",
       "version_major": 2,
       "version_minor": 0
      },
      "text/plain": [
       "HBox(children=(FloatProgress(value=0.0, max=2.0), HTML(value='')))"
      ]
     },
     "metadata": {},
     "output_type": "display_data"
    },
    {
     "name": "stdout",
     "output_type": "stream",
     "text": [
      "\n"
     ]
    },
    {
     "data": {
      "application/vnd.jupyter.widget-view+json": {
       "model_id": "a83c9524fa51448b86d79c9442dbb6f2",
       "version_major": 2,
       "version_minor": 0
      },
      "text/plain": [
       "HBox(children=(FloatProgress(value=0.0, max=2.0), HTML(value='')))"
      ]
     },
     "metadata": {},
     "output_type": "display_data"
    },
    {
     "name": "stdout",
     "output_type": "stream",
     "text": [
      "\n",
      "Dataset csv downloaded and prepared to /root/.cache/huggingface/datasets/csv/gsm-8k-ru-8b519d935238902b/0.0.0/bf68a4c4aefa545d0712b2fcbb1b327f905bbe2f6425fbc5e8c25234acb9e14a. Subsequent calls will reuse this data.\n"
     ]
    },
    {
     "data": {
      "application/vnd.jupyter.widget-view+json": {
       "model_id": "6089af8c31e14f1a80036bda30734d6a",
       "version_major": 2,
       "version_minor": 0
      },
      "text/plain": [
       "HBox(children=(FloatProgress(value=0.0, max=2.0), HTML(value='')))"
      ]
     },
     "metadata": {},
     "output_type": "display_data"
    },
    {
     "name": "stdout",
     "output_type": "stream",
     "text": [
      "\n"
     ]
    },
    {
     "data": {
      "text/plain": [
       "DatasetDict({\n",
       "    train: Dataset({\n",
       "        features: ['question', 'answer'],\n",
       "        num_rows: 5824\n",
       "    })\n",
       "    test: Dataset({\n",
       "        features: ['question', 'answer'],\n",
       "        num_rows: 200\n",
       "    })\n",
       "})"
      ]
     },
     "execution_count": 6,
     "metadata": {},
     "output_type": "execute_result"
    }
   ],
   "source": [
    "import re\n",
    "import numpy as np\n",
    "\n",
    "data_files = {\"train\": \"gsm_train.csv\", \"test\": \"gsm_test.csv\"}\n",
    "dataset = load_dataset('/kaggle/input/gsm-8k-ru', data_files=data_files).shuffle(seed=0)\n",
    "train_data = dataset[\"test\"].train_test_split(test_size=0.5) # 50% of test to validation\n",
    "train_data[\"train\"] = dataset[\"train\"]\n",
    "train_data"
   ]
  },
  {
   "cell_type": "code",
   "execution_count": 7,
   "metadata": {
    "execution": {
     "iopub.execute_input": "2023-12-11T09:11:58.462393Z",
     "iopub.status.busy": "2023-12-11T09:11:58.456898Z",
     "iopub.status.idle": "2023-12-11T09:11:58.465796Z",
     "shell.execute_reply": "2023-12-11T09:11:58.465243Z",
     "shell.execute_reply.started": "2023-12-03T11:47:00.287423Z"
    },
    "papermill": {
     "duration": 0.055467,
     "end_time": "2023-12-11T09:11:58.465904",
     "exception": false,
     "start_time": "2023-12-11T09:11:58.410437",
     "status": "completed"
    },
    "tags": []
   },
   "outputs": [],
   "source": [
    "def get_target_digits(text):\n",
    "    text = text.split('####')[-1]\n",
    "    text = re.sub(\"[^0-9.,]\", \"\", text)\n",
    "    text = re.sub(\"^[.,]|[.,]$\", \"\", text)\n",
    "    try:\n",
    "        target = float(text)\n",
    "    except:\n",
    "        target = np.NaN\n",
    "    finally:\n",
    "        return target\n",
    "\n",
    "def compute_metrics(eval_preds):\n",
    "    preds, labels = eval_preds\n",
    "    if isinstance(preds, tuple):\n",
    "        preds = preds[0]\n",
    "    decoded_preds = tokenizer.batch_decode(preds, skip_special_tokens=True)\n",
    "\n",
    "    labels = np.where(labels != -100, labels, tokenizer.pad_token_id)\n",
    "    decoded_labels = tokenizer.batch_decode(labels, skip_special_tokens=True)\n",
    "    \n",
    "    decoded_preds = [pred.strip() for pred in decoded_preds]\n",
    "    decoded_labels = [[label.strip()] for label in decoded_labels]\n",
    "    final_preds = [get_target_digits(pred) for pred in decoded_preds]\n",
    "    final_labels = [[get_target_digits(label)] for label in decoded_labels]\n",
    "\n",
    "    # length\n",
    "    prediction_lens = [np.count_nonzero(pred != tokenizer.pad_token_id) for pred in preds]\n",
    "    result[\"gen_len\"] = np.mean(prediction_lens)\n",
    "    # answer accuracy\n",
    "    eps = 1e-6\n",
    "    prediction_corrects = np.abs(final_preds - final_labels) <= eps\n",
    "    result[\"accuracy\"] = np.mean(prediction_corrects)\n",
    "    \n",
    "    result = {k: round(v, 4) for k, v in result.items()}\n",
    "    print(result)\n",
    "    return result"
   ]
  },
  {
   "cell_type": "code",
   "execution_count": 8,
   "metadata": {
    "execution": {
     "iopub.execute_input": "2023-12-11T09:11:58.556502Z",
     "iopub.status.busy": "2023-12-11T09:11:58.551327Z",
     "iopub.status.idle": "2023-12-11T09:11:58.571976Z",
     "shell.execute_reply": "2023-12-11T09:11:58.571365Z",
     "shell.execute_reply.started": "2023-12-03T11:47:00.306013Z"
    },
    "papermill": {
     "duration": 0.06762,
     "end_time": "2023-12-11T09:11:58.572082",
     "exception": false,
     "start_time": "2023-12-11T09:11:58.504462",
     "status": "completed"
    },
    "tags": []
   },
   "outputs": [],
   "source": [
    "def split_text_by_space(text, index):\n",
    "    space_before = text.rfind(' ', 0, index)\n",
    "    space_after = text.find(' ', index)\n",
    "    if space_before == -1 and space_after == -1:\n",
    "        return text, ''\n",
    "    \n",
    "    if space_before == -1:\n",
    "        res = text[:space_after], text[space_after + 1:]\n",
    "    elif space_after == -1:\n",
    "        res = text[:space_before], text[space_before + 1:]\n",
    "    else:\n",
    "        if index - space_before < space_after - index:\n",
    "            res = text[:space_before], text[space_before + 1:]\n",
    "        else:\n",
    "            res = text[:space_after], text[space_after + 1:]\n",
    "    if np.random.rand() < 0.5:\n",
    "        return res[0] + ' ', res[1]\n",
    "    else:\n",
    "        return res[0], ' ' + res[1]\n",
    "\n",
    "def build_text(question, answer):\n",
    "    return f'Задача: {question}\\nРешение:{answer}'\n",
    "\n",
    "denoiser_params = {\n",
    "    '<SC1>': (3, 0.15),\n",
    "    '<SC2>': (8, 0.15),\n",
    "    '<SC3>': (64, 0.15),\n",
    "    '<SC4>': (3, 0.5),\n",
    "    '<SC5>': (8, 0.5)\n",
    "}\n",
    "\n",
    "def generate_denoise_input(questions, answers):\n",
    "    denoisers = np.random.choice(['<LM>', '<SC1>', '<SC2>', '<SC3>', '<SC4>', '<SC5>', '<SC6>'], \n",
    "                                 size=len(questions), p=[0.3, 0.05, 0.05, 0.05, 0.05, 0.05, 0.45])\n",
    "    inputs, outputs = [], []\n",
    "    for question, answer, denoiser in zip(questions, answers, denoisers):\n",
    "        answer = answer.replace('<calculator>', '[[').replace('</calculator>', ']]')\n",
    "        if denoiser == '<SC6>':\n",
    "            answer = answer.split('####')\n",
    "            inputs.append(f'<SC6>Задача: {question}\\nРешение:<extra_id_0>####<extra_id_1>')\n",
    "            outputs.append(f'<extra_id_0>{answer[0]}<extra_id_1>{answer[1]}</s>')\n",
    "        elif denoiser == '<LM>':\n",
    "            text = build_text(question, answer)\n",
    "            loc = len(text) * 0.75\n",
    "            scale = len(text) * 0.03\n",
    "            split_index = int(np.random.normal(loc=loc, scale=scale))\n",
    "            text = split_text_by_space(text, split_index)\n",
    "            inputs.append(f'<LM>{text[0]}')\n",
    "            outputs.append(f'{text[1]}</s>')\n",
    "        else:\n",
    "            text = build_text(question, answer)\n",
    "            mu, r = denoiser_params[denoiser]\n",
    "            loc = mu * 3\n",
    "            scale = loc * 0.1\n",
    "            replaced_text = ''\n",
    "            mask_id = 0\n",
    "            masked_text = ''\n",
    "            skipped = True\n",
    "            while len(text) != 0:\n",
    "                span_size = int(np.random.normal(loc=loc, scale=scale))\n",
    "                if len(text) <= span_size:\n",
    "                    span, text = text, ''\n",
    "                else:\n",
    "                    span, text = split_text_by_space(text, span_size)\n",
    "                if skipped:\n",
    "                    skipped = False\n",
    "                    replaced_text += span\n",
    "                else:\n",
    "                    skipped = True\n",
    "                    if np.random.rand() <= 2*r:\n",
    "                        replaced_text += f'<extra_id_{mask_id}>'\n",
    "                        masked_text += f'<extra_id_{mask_id}>{span}'\n",
    "                        mask_id += 1\n",
    "                    else:\n",
    "                        replaced_text += span\n",
    "            inputs.append(f'{denoiser}{replaced_text}')\n",
    "            outputs.append(f'{masked_text}</s>')\n",
    "    return inputs, outputs\n"
   ]
  },
  {
   "cell_type": "code",
   "execution_count": 9,
   "metadata": {
    "execution": {
     "iopub.execute_input": "2023-12-11T09:11:58.657757Z",
     "iopub.status.busy": "2023-12-11T09:11:58.656755Z",
     "iopub.status.idle": "2023-12-11T09:11:58.659449Z",
     "shell.execute_reply": "2023-12-11T09:11:58.658796Z",
     "shell.execute_reply.started": "2023-12-03T11:47:00.336474Z"
    },
    "papermill": {
     "duration": 0.048955,
     "end_time": "2023-12-11T09:11:58.659563",
     "exception": false,
     "start_time": "2023-12-11T09:11:58.610608",
     "status": "completed"
    },
    "tags": []
   },
   "outputs": [],
   "source": [
    "sustem_prompt = '''Ты эксперт в решении математических задач. Твоя задача: решить задачу \n",
    "расписывая решение по шагам и выполняя одно арифметическое действие за раз. Тебе необходимо \n",
    "пользоваться калькулятором вместо того, чтобы считать результат арифметического выражения. \n",
    "Для этого помести математическое выражение между тэгами <calculator> и </calculator>, чтобы вызвать калькулятор.\n",
    "Результат выражения будет вычислен при помощи калькулятора и записан сразу же после вызова (после закрывающего тэга). \n",
    "Используй \"+\" для сложения, \"-\" для вычитания, \"*\" для умножения, \"/\" для деления чисел. \n",
    "Финальный ответ напиши в самом конце после \"####\". Подумай хорошо и отвечай как можно лучше.\n",
    "'''.replace('\\n', ' ').strip()\n",
    "# NOTE: большой контекст не позволяет учиться с большим батчем\n",
    "sustem_prompt = '' \n",
    "\n",
    "\n",
    "def preprocess_function(examples):\n",
    "    inputs, outputs = generate_denoise_input(examples[\"question\"], examples[\"answer\"])\n",
    "    \n",
    "    model_inputs = tokenizer(inputs, text_target=outputs, max_length=338, truncation=True)\n",
    "    return model_inputs"
   ]
  },
  {
   "cell_type": "code",
   "execution_count": 10,
   "metadata": {
    "execution": {
     "iopub.execute_input": "2023-12-11T09:11:58.754318Z",
     "iopub.status.busy": "2023-12-11T09:11:58.747495Z",
     "iopub.status.idle": "2023-12-11T09:11:58.989940Z",
     "shell.execute_reply": "2023-12-11T09:11:58.990446Z",
     "shell.execute_reply.started": "2023-12-03T11:47:00.347439Z"
    },
    "papermill": {
     "duration": 0.291878,
     "end_time": "2023-12-11T09:11:58.990587",
     "exception": false,
     "start_time": "2023-12-11T09:11:58.698709",
     "status": "completed"
    },
    "tags": []
   },
   "outputs": [
    {
     "data": {
      "application/vnd.jupyter.widget-view+json": {
       "model_id": "c6486da5874648e98ea98cc63c854d1c",
       "version_major": 2,
       "version_minor": 0
      },
      "text/plain": [
       "HBox(children=(FloatProgress(value=0.0, max=6.0), HTML(value='')))"
      ]
     },
     "metadata": {},
     "output_type": "display_data"
    },
    {
     "name": "stdout",
     "output_type": "stream",
     "text": [
      "\n"
     ]
    },
    {
     "data": {
      "text/plain": [
       "DatasetDict({\n",
       "    train: Dataset({\n",
       "        features: ['answer', 'question'],\n",
       "        num_rows: 29120\n",
       "    })\n",
       "    test: Dataset({\n",
       "        features: ['question', 'answer'],\n",
       "        num_rows: 200\n",
       "    })\n",
       "})"
      ]
     },
     "execution_count": 10,
     "metadata": {},
     "output_type": "execute_result"
    }
   ],
   "source": [
    "N = 5\n",
    "train_data['train'] = train_data['train'].map(lambda examples: {k: v * N for k, v in examples.items()}, batched=True).shuffle()\n",
    "train_data"
   ]
  },
  {
   "cell_type": "code",
   "execution_count": 11,
   "metadata": {
    "execution": {
     "iopub.execute_input": "2023-12-11T09:11:59.100640Z",
     "iopub.status.busy": "2023-12-11T09:11:59.090284Z",
     "iopub.status.idle": "2023-12-11T09:13:08.041290Z",
     "shell.execute_reply": "2023-12-11T09:13:08.040640Z",
     "shell.execute_reply.started": "2023-12-03T11:47:00.610364Z"
    },
    "papermill": {
     "duration": 69.01102,
     "end_time": "2023-12-11T09:13:08.041412",
     "exception": false,
     "start_time": "2023-12-11T09:11:59.030392",
     "status": "completed"
    },
    "tags": []
   },
   "outputs": [
    {
     "data": {
      "application/vnd.jupyter.widget-view+json": {
       "model_id": "dba36802f54e4a918d9ab3a67562f113",
       "version_major": 2,
       "version_minor": 0
      },
      "text/plain": [
       "HBox(children=(FloatProgress(value=0.0, max=30.0), HTML(value='')))"
      ]
     },
     "metadata": {},
     "output_type": "display_data"
    },
    {
     "name": "stdout",
     "output_type": "stream",
     "text": [
      "\n"
     ]
    },
    {
     "data": {
      "application/vnd.jupyter.widget-view+json": {
       "model_id": "d11a016b06204a458b88ba9bd95d5eb4",
       "version_major": 2,
       "version_minor": 0
      },
      "text/plain": [
       "HBox(children=(FloatProgress(value=0.0, max=1.0), HTML(value='')))"
      ]
     },
     "metadata": {},
     "output_type": "display_data"
    },
    {
     "name": "stdout",
     "output_type": "stream",
     "text": [
      "\n"
     ]
    }
   ],
   "source": [
    "tokenized_train_data = train_data.map(preprocess_function, batched=True)"
   ]
  },
  {
   "cell_type": "code",
   "execution_count": 12,
   "metadata": {
    "execution": {
     "iopub.execute_input": "2023-12-11T09:13:08.129157Z",
     "iopub.status.busy": "2023-12-11T09:13:08.128550Z",
     "iopub.status.idle": "2023-12-11T09:13:12.512420Z",
     "shell.execute_reply": "2023-12-11T09:13:12.511768Z",
     "shell.execute_reply.started": "2023-12-03T11:48:26.993321Z"
    },
    "papermill": {
     "duration": 4.429403,
     "end_time": "2023-12-11T09:13:12.512540",
     "exception": false,
     "start_time": "2023-12-11T09:13:08.083137",
     "status": "completed"
    },
    "tags": []
   },
   "outputs": [],
   "source": [
    "from transformers import AutoTokenizer, DataCollatorForSeq2Seq\n",
    "from transformers import AutoModelForSeq2SeqLM, Seq2SeqTrainingArguments, Seq2SeqTrainer\n",
    "\n",
    "data_collator = DataCollatorForSeq2Seq(tokenizer=tokenizer, model=model)"
   ]
  },
  {
   "cell_type": "code",
   "execution_count": 13,
   "metadata": {
    "execution": {
     "iopub.execute_input": "2023-12-11T09:13:12.605905Z",
     "iopub.status.busy": "2023-12-11T09:13:12.604378Z",
     "iopub.status.idle": "2023-12-11T09:13:12.608823Z",
     "shell.execute_reply": "2023-12-11T09:13:12.608301Z",
     "shell.execute_reply.started": "2023-12-03T11:48:28.789412Z"
    },
    "papermill": {
     "duration": 0.054417,
     "end_time": "2023-12-11T09:13:12.608943",
     "exception": false,
     "start_time": "2023-12-11T09:13:12.554526",
     "status": "completed"
    },
    "tags": []
   },
   "outputs": [],
   "source": [
    "import os\n",
    "os.environ[\"WANDB_DISABLED\"] = \"true\""
   ]
  },
  {
   "cell_type": "markdown",
   "metadata": {
    "papermill": {
     "duration": 0.041223,
     "end_time": "2023-12-11T09:13:12.691667",
     "exception": false,
     "start_time": "2023-12-11T09:13:12.650444",
     "status": "completed"
    },
    "tags": []
   },
   "source": [
    "# Full SFT"
   ]
  },
  {
   "cell_type": "code",
   "execution_count": 14,
   "metadata": {
    "execution": {
     "iopub.execute_input": "2023-12-11T09:13:12.780258Z",
     "iopub.status.busy": "2023-12-11T09:13:12.779319Z",
     "iopub.status.idle": "2023-12-11T09:13:12.782272Z",
     "shell.execute_reply": "2023-12-11T09:13:12.781738Z",
     "shell.execute_reply.started": "2023-12-03T11:48:28.799787Z"
    },
    "papermill": {
     "duration": 0.048522,
     "end_time": "2023-12-11T09:13:12.782387",
     "exception": false,
     "start_time": "2023-12-11T09:13:12.733865",
     "status": "completed"
    },
    "tags": []
   },
   "outputs": [],
   "source": [
    "# training_args = Seq2SeqTrainingArguments(\n",
    "#     output_dir=\"trained\",\n",
    "#     overwrite_output_dir=True,\n",
    "#     num_train_epochs=1,\n",
    "#     per_device_train_batch_size=1,\n",
    "#     per_device_eval_batch_size=1,\n",
    "#     gradient_accumulation_steps = 1,\n",
    "#     learning_rate=2e-5,\n",
    "#     save_steps=5_000,\n",
    "#     save_total_limit=2,\n",
    "#     do_train = True,\n",
    "#     do_eval = True,\n",
    "#     fp16=True\n",
    "# )"
   ]
  },
  {
   "cell_type": "code",
   "execution_count": 15,
   "metadata": {
    "execution": {
     "iopub.execute_input": "2023-12-11T09:13:12.870035Z",
     "iopub.status.busy": "2023-12-11T09:13:12.869065Z",
     "iopub.status.idle": "2023-12-11T09:13:12.872069Z",
     "shell.execute_reply": "2023-12-11T09:13:12.871515Z",
     "shell.execute_reply.started": "2023-12-03T11:48:28.809868Z"
    },
    "papermill": {
     "duration": 0.04817,
     "end_time": "2023-12-11T09:13:12.872190",
     "exception": false,
     "start_time": "2023-12-11T09:13:12.824020",
     "status": "completed"
    },
    "tags": []
   },
   "outputs": [],
   "source": [
    "# trainer = Seq2SeqTrainer(\n",
    "#     model=model,\n",
    "#     args=training_args,\n",
    "#     train_dataset=tokenized_train_data[\"train\"],\n",
    "#     eval_dataset=tokenized_train_data[\"test\"],\n",
    "#     tokenizer=tokenizer,\n",
    "#     data_collator=data_collator,\n",
    "#     compute_metrics=compute_metrics\n",
    "# )\n",
    "\n",
    "# trainer.train()"
   ]
  },
  {
   "cell_type": "markdown",
   "metadata": {
    "papermill": {
     "duration": 0.041746,
     "end_time": "2023-12-11T09:13:12.955341",
     "exception": false,
     "start_time": "2023-12-11T09:13:12.913595",
     "status": "completed"
    },
    "tags": []
   },
   "source": [
    "# LoRA"
   ]
  },
  {
   "cell_type": "code",
   "execution_count": 16,
   "metadata": {
    "execution": {
     "iopub.execute_input": "2023-12-11T09:13:13.043807Z",
     "iopub.status.busy": "2023-12-11T09:13:13.042650Z",
     "iopub.status.idle": "2023-12-11T09:13:13.045567Z",
     "shell.execute_reply": "2023-12-11T09:13:13.044938Z",
     "shell.execute_reply.started": "2023-12-03T11:48:28.827482Z"
    },
    "papermill": {
     "duration": 0.049014,
     "end_time": "2023-12-11T09:13:13.045677",
     "exception": false,
     "start_time": "2023-12-11T09:13:12.996663",
     "status": "completed"
    },
    "tags": []
   },
   "outputs": [],
   "source": [
    "# from peft import LoraConfig, get_peft_model, TaskType\n",
    "# from peft.utils.other import TRANSFORMERS_MODELS_TO_LORA_TARGET_MODULES_MAPPING \n",
    "# from transformers import TrainingArguments, Trainer\n",
    "\n",
    "# lora_config = LoraConfig(\n",
    "#     r=32,\n",
    "#     lora_alpha=32,\n",
    "#     target_modules=TRANSFORMERS_MODELS_TO_LORA_TARGET_MODULES_MAPPING[\"t5\"],\n",
    "#     lora_dropout=0.05,\n",
    "#     bias=\"none\",\n",
    "#     task_type=TaskType.SEQ_2_SEQ_LM\n",
    "# )\n",
    "\n",
    "# model.enable_input_require_grads()\n",
    "# peft_model = get_peft_model(model, lora_config)\n",
    "# # peft_model.to(device)\n",
    "\n",
    "# def print_number_of_trainable_model_parameters(model):\n",
    "#     trainable_model_params = 0\n",
    "#     all_model_params = 0\n",
    "#     for _, param in model.named_parameters():\n",
    "#         all_model_params += param.numel()\n",
    "#         if param.requires_grad:\n",
    "#             trainable_model_params += param.numel()\n",
    "#     return f\"trainable model parameters: {trainable_model_params}\\nall model parameters: {all_model_params}\\npercentage of trainable model parameters: {100 * trainable_model_params / all_model_params:.2f}%\"\n",
    "\n",
    "# print(print_number_of_trainable_model_parameters(peft_model))"
   ]
  },
  {
   "cell_type": "code",
   "execution_count": 17,
   "metadata": {
    "execution": {
     "iopub.execute_input": "2023-12-11T09:13:13.135514Z",
     "iopub.status.busy": "2023-12-11T09:13:13.134518Z",
     "iopub.status.idle": "2023-12-11T09:13:19.071796Z",
     "shell.execute_reply": "2023-12-11T09:13:19.071106Z"
    },
    "papermill": {
     "duration": 5.984326,
     "end_time": "2023-12-11T09:13:19.071911",
     "exception": false,
     "start_time": "2023-12-11T09:13:13.087585",
     "status": "completed"
    },
    "tags": []
   },
   "outputs": [],
   "source": [
    "# pretrained\n",
    "from peft import PeftModel\n",
    "from peft.tuners.lora import mark_only_lora_as_trainable\n",
    "\n",
    "adapters_name = '/kaggle/input/t5-1-7b-lora/peft-checkpoint-v2'\n",
    "model.enable_input_require_grads()\n",
    "peft_model = PeftModel.from_pretrained(model, adapters_name, is_trainable=True)\n",
    "# peft_model = peft_model.merge_and_unload()\n",
    "# peft_model._mark_only_adapters_as_trainable()\n",
    "mark_only_lora_as_trainable(peft_model)"
   ]
  },
  {
   "cell_type": "markdown",
   "metadata": {
    "papermill": {
     "duration": 0.042611,
     "end_time": "2023-12-11T09:13:19.156379",
     "exception": false,
     "start_time": "2023-12-11T09:13:19.113768",
     "status": "completed"
    },
    "tags": []
   },
   "source": [
    "# Train 1"
   ]
  },
  {
   "cell_type": "code",
   "execution_count": 18,
   "metadata": {
    "execution": {
     "iopub.execute_input": "2023-12-11T09:13:19.245072Z",
     "iopub.status.busy": "2023-12-11T09:13:19.244419Z",
     "iopub.status.idle": "2023-12-11T09:13:19.247051Z",
     "shell.execute_reply": "2023-12-11T09:13:19.246442Z",
     "shell.execute_reply.started": "2023-12-03T11:48:34.880573Z"
    },
    "papermill": {
     "duration": 0.049184,
     "end_time": "2023-12-11T09:13:19.247179",
     "exception": false,
     "start_time": "2023-12-11T09:13:19.197995",
     "status": "completed"
    },
    "tags": []
   },
   "outputs": [],
   "source": [
    "# import os\n",
    "# # os.environ[\"WANDB_DISABLED\"] = \"false\"\n",
    "\n",
    "# # tips https://huggingface.co/docs/transformers/perf_train_gpu_one\n",
    "# # Parameters https://huggingface.co/docs/transformers/v4.25.1/en/main_classes/trainer#transformers.Seq2SeqTrainingArguments\n",
    "# train_batch_size = 16\n",
    "# eval_batch_size = 16\n",
    "\n",
    "# training_args = Seq2SeqTrainingArguments(\n",
    "#     num_train_epochs = 5, # 25\n",
    "#     learning_rate = 3e-4,\n",
    "#     lr_scheduler_type = \"linear\",\n",
    "#     weight_decay = 1e-3,\n",
    "#     warmup_steps = 50,\n",
    "#     optim=\"adafactor\",\n",
    "# #     optim=\"adamw_apex_fused\",\n",
    "    \n",
    "# #     auto_find_batch_size=True,\n",
    "#     per_device_train_batch_size=train_batch_size,\n",
    "#     per_device_eval_batch_size=eval_batch_size, \n",
    "#     gradient_checkpointing = True,\n",
    "#     gradient_accumulation_steps = max(1, train_batch_size // 32),\n",
    "#     eval_accumulation_steps = max(1, 64 // eval_batch_size),\n",
    "    \n",
    "#     output_dir=\"/kaggle/working/lora_trained\",\n",
    "#     logging_dir='/kaggle/working/training_logs',  \n",
    "#     overwrite_output_dir=True,\n",
    "#     save_steps=1800, # at the end of training\n",
    "#     save_total_limit = 1,\n",
    "#     do_train = True,\n",
    "#     do_eval = True,\n",
    "#     evaluation_strategy = 'steps',\n",
    "#     logging_steps=100,# 100\n",
    "    \n",
    "#     fp16 = False, # it may cause training errors: https://discuss.huggingface.co/t/training-loss-0-0-validation-loss-nan/27950/3\n",
    "# #     jit_mode_eval = True,\n",
    "#     seed = 42,\n",
    "# #     report_to=\"wandb\"\n",
    "# )\n",
    "\n"
   ]
  },
  {
   "cell_type": "code",
   "execution_count": 19,
   "metadata": {
    "execution": {
     "iopub.execute_input": "2023-12-11T09:13:19.343460Z",
     "iopub.status.busy": "2023-12-11T09:13:19.342387Z",
     "iopub.status.idle": "2023-12-11T09:13:19.347796Z",
     "shell.execute_reply": "2023-12-11T09:13:19.347087Z",
     "shell.execute_reply.started": "2023-12-03T11:48:34.887081Z"
    },
    "papermill": {
     "duration": 0.058885,
     "end_time": "2023-12-11T09:13:19.347923",
     "exception": false,
     "start_time": "2023-12-11T09:13:19.289038",
     "status": "completed"
    },
    "tags": []
   },
   "outputs": [],
   "source": [
    "# # for safety background\n",
    "# for i in range(10):\n",
    "#     print('checkpoint', i)\n",
    "#     # reshuffle masked LM\n",
    "#     print('data processing')\n",
    "#     tokenized_train_data = train_data.map(preprocess_function, batched=True)\n",
    "#     trainer = Seq2SeqTrainer(\n",
    "#         model=peft_model,\n",
    "#         args=training_args,\n",
    "#         train_dataset=tokenized_train_data[\"train\"],\n",
    "#         eval_dataset=tokenized_train_data[\"test\"],\n",
    "#         tokenizer=tokenizer,\n",
    "#         data_collator=data_collator,\n",
    "# #         compute_metrics=compute_metrics\n",
    "#     )\n",
    "#     print('training')\n",
    "#     try:\n",
    "#         if i == 0:\n",
    "#             trainer.train()\n",
    "#         else:\n",
    "#             trainer.train(resume_from_checkpoint=True)\n",
    "#     except Exception as ex:\n",
    "#         print('Training error:', ex)\n",
    "#     finally:\n",
    "#         for j, step in enumerate(trainer.state.log_history):\n",
    "#             print(j, step)\n",
    "#         peft_model_path=f\"/kaggle/working/peft-checkpoint-{i}\"\n",
    "\n",
    "#         trainer.model.save_pretrained(peft_model_path)\n",
    "#         tokenizer.save_pretrained(peft_model_path)"
   ]
  },
  {
   "cell_type": "markdown",
   "metadata": {
    "papermill": {
     "duration": 0.052904,
     "end_time": "2023-12-11T09:13:19.447386",
     "exception": false,
     "start_time": "2023-12-11T09:13:19.394482",
     "status": "completed"
    },
    "tags": []
   },
   "source": [
    "# Train2"
   ]
  },
  {
   "cell_type": "code",
   "execution_count": 20,
   "metadata": {
    "execution": {
     "iopub.execute_input": "2023-12-11T09:13:19.551810Z",
     "iopub.status.busy": "2023-12-11T09:13:19.551089Z",
     "iopub.status.idle": "2023-12-11T17:21:34.845539Z",
     "shell.execute_reply": "2023-12-11T17:21:34.844843Z",
     "shell.execute_reply.started": "2023-12-03T11:48:34.898084Z"
    },
    "papermill": {
     "duration": 29295.349281,
     "end_time": "2023-12-11T17:21:34.845661",
     "exception": false,
     "start_time": "2023-12-11T09:13:19.496380",
     "status": "completed"
    },
    "tags": []
   },
   "outputs": [
    {
     "name": "stderr",
     "output_type": "stream",
     "text": [
      "Using the `WANDB_DISABLED` environment variable is deprecated and will be removed in v5. Use the --report_to flag to control the integrations used for logging result (for instance --report_to none).\n"
     ]
    },
    {
     "name": "stdout",
     "output_type": "stream",
     "text": [
      "checkpoint 0\n"
     ]
    },
    {
     "name": "stderr",
     "output_type": "stream",
     "text": [
      "`use_cache=True` is incompatible with gradient checkpointing. Setting `use_cache=False`...\n"
     ]
    },
    {
     "data": {
      "text/html": [
       "\n",
       "    <div>\n",
       "      \n",
       "      <progress value='1820' max='1820' style='width:300px; height:20px; vertical-align: middle;'></progress>\n",
       "      [1820/1820 2:42:39, Epoch 1/1]\n",
       "    </div>\n",
       "    <table border=\"1\" class=\"dataframe\">\n",
       "  <thead>\n",
       " <tr style=\"text-align: left;\">\n",
       "      <th>Step</th>\n",
       "      <th>Training Loss</th>\n",
       "      <th>Validation Loss</th>\n",
       "    </tr>\n",
       "  </thead>\n",
       "  <tbody>\n",
       "    <tr>\n",
       "      <td>450</td>\n",
       "      <td>0.756300</td>\n",
       "      <td>0.663845</td>\n",
       "    </tr>\n",
       "    <tr>\n",
       "      <td>900</td>\n",
       "      <td>0.722700</td>\n",
       "      <td>0.656347</td>\n",
       "    </tr>\n",
       "    <tr>\n",
       "      <td>1350</td>\n",
       "      <td>0.710800</td>\n",
       "      <td>0.649156</td>\n",
       "    </tr>\n",
       "    <tr>\n",
       "      <td>1800</td>\n",
       "      <td>0.708700</td>\n",
       "      <td>0.647571</td>\n",
       "    </tr>\n",
       "  </tbody>\n",
       "</table><p>"
      ],
      "text/plain": [
       "<IPython.core.display.HTML object>"
      ]
     },
     "metadata": {},
     "output_type": "display_data"
    },
    {
     "name": "stdout",
     "output_type": "stream",
     "text": [
      "[{'loss': 0.7563, 'learning_rate': 0.00023220338983050845, 'epoch': 0.25, 'step': 450}, {'eval_loss': 0.663845419883728, 'eval_runtime': 20.8803, 'eval_samples_per_second': 9.578, 'eval_steps_per_second': 0.623, 'epoch': 0.25, 'step': 450}, {'loss': 0.7227, 'learning_rate': 0.0001559322033898305, 'epoch': 0.49, 'step': 900}, {'eval_loss': 0.6563472151756287, 'eval_runtime': 20.8714, 'eval_samples_per_second': 9.582, 'eval_steps_per_second': 0.623, 'epoch': 0.49, 'step': 900}, {'loss': 0.7108, 'learning_rate': 7.966101694915254e-05, 'epoch': 0.74, 'step': 1350}, {'eval_loss': 0.6491555571556091, 'eval_runtime': 20.8823, 'eval_samples_per_second': 9.577, 'eval_steps_per_second': 0.623, 'epoch': 0.74, 'step': 1350}, {'loss': 0.7087, 'learning_rate': 3.389830508474576e-06, 'epoch': 0.99, 'step': 1800}, {'eval_loss': 0.6475707292556763, 'eval_runtime': 20.8846, 'eval_samples_per_second': 9.576, 'eval_steps_per_second': 0.622, 'epoch': 0.99, 'step': 1800}, {'train_runtime': 9768.9274, 'train_samples_per_second': 2.981, 'train_steps_per_second': 0.186, 'total_flos': 5.860082687075942e+16, 'train_loss': 0.7244519328023051, 'epoch': 1.0, 'step': 1820}]\n",
      "checkpoint 1\n"
     ]
    },
    {
     "data": {
      "text/html": [
       "\n",
       "    <div>\n",
       "      \n",
       "      <progress value='1820' max='1820' style='width:300px; height:20px; vertical-align: middle;'></progress>\n",
       "      [1820/1820 2:42:36, Epoch 1/1]\n",
       "    </div>\n",
       "    <table border=\"1\" class=\"dataframe\">\n",
       "  <thead>\n",
       " <tr style=\"text-align: left;\">\n",
       "      <th>Step</th>\n",
       "      <th>Training Loss</th>\n",
       "      <th>Validation Loss</th>\n",
       "    </tr>\n",
       "  </thead>\n",
       "  <tbody>\n",
       "    <tr>\n",
       "      <td>450</td>\n",
       "      <td>0.690700</td>\n",
       "      <td>0.652295</td>\n",
       "    </tr>\n",
       "    <tr>\n",
       "      <td>900</td>\n",
       "      <td>0.687800</td>\n",
       "      <td>0.647783</td>\n",
       "    </tr>\n",
       "    <tr>\n",
       "      <td>1350</td>\n",
       "      <td>0.685300</td>\n",
       "      <td>0.640844</td>\n",
       "    </tr>\n",
       "    <tr>\n",
       "      <td>1800</td>\n",
       "      <td>0.691600</td>\n",
       "      <td>0.638787</td>\n",
       "    </tr>\n",
       "  </tbody>\n",
       "</table><p>"
      ],
      "text/plain": [
       "<IPython.core.display.HTML object>"
      ]
     },
     "metadata": {},
     "output_type": "display_data"
    },
    {
     "name": "stdout",
     "output_type": "stream",
     "text": [
      "[{'loss': 0.6907, 'learning_rate': 0.00023220338983050845, 'epoch': 0.25, 'step': 450}, {'eval_loss': 0.6522954702377319, 'eval_runtime': 20.8737, 'eval_samples_per_second': 9.581, 'eval_steps_per_second': 0.623, 'epoch': 0.25, 'step': 450}, {'loss': 0.6878, 'learning_rate': 0.0001559322033898305, 'epoch': 0.49, 'step': 900}, {'eval_loss': 0.6477830410003662, 'eval_runtime': 20.8805, 'eval_samples_per_second': 9.578, 'eval_steps_per_second': 0.623, 'epoch': 0.49, 'step': 900}, {'loss': 0.6853, 'learning_rate': 7.966101694915254e-05, 'epoch': 0.74, 'step': 1350}, {'eval_loss': 0.6408435702323914, 'eval_runtime': 20.8711, 'eval_samples_per_second': 9.583, 'eval_steps_per_second': 0.623, 'epoch': 0.74, 'step': 1350}, {'loss': 0.6916, 'learning_rate': 3.389830508474576e-06, 'epoch': 0.99, 'step': 1800}, {'eval_loss': 0.6387869715690613, 'eval_runtime': 20.8782, 'eval_samples_per_second': 9.579, 'eval_steps_per_second': 0.623, 'epoch': 0.99, 'step': 1800}, {'train_runtime': 9762.7694, 'train_samples_per_second': 2.983, 'train_steps_per_second': 0.186, 'total_flos': 5.860082687075942e+16, 'train_loss': 0.6889527656219818, 'epoch': 1.0, 'step': 1820}]\n",
      "checkpoint 2\n"
     ]
    },
    {
     "data": {
      "text/html": [
       "\n",
       "    <div>\n",
       "      \n",
       "      <progress value='1820' max='1820' style='width:300px; height:20px; vertical-align: middle;'></progress>\n",
       "      [1820/1820 2:42:36, Epoch 1/1]\n",
       "    </div>\n",
       "    <table border=\"1\" class=\"dataframe\">\n",
       "  <thead>\n",
       " <tr style=\"text-align: left;\">\n",
       "      <th>Step</th>\n",
       "      <th>Training Loss</th>\n",
       "      <th>Validation Loss</th>\n",
       "    </tr>\n",
       "  </thead>\n",
       "  <tbody>\n",
       "    <tr>\n",
       "      <td>450</td>\n",
       "      <td>0.656700</td>\n",
       "      <td>0.649581</td>\n",
       "    </tr>\n",
       "    <tr>\n",
       "      <td>900</td>\n",
       "      <td>0.660400</td>\n",
       "      <td>0.643848</td>\n",
       "    </tr>\n",
       "    <tr>\n",
       "      <td>1350</td>\n",
       "      <td>0.665100</td>\n",
       "      <td>0.636238</td>\n",
       "    </tr>\n",
       "    <tr>\n",
       "      <td>1800</td>\n",
       "      <td>0.678800</td>\n",
       "      <td>0.633888</td>\n",
       "    </tr>\n",
       "  </tbody>\n",
       "</table><p>"
      ],
      "text/plain": [
       "<IPython.core.display.HTML object>"
      ]
     },
     "metadata": {},
     "output_type": "display_data"
    },
    {
     "name": "stdout",
     "output_type": "stream",
     "text": [
      "[{'loss': 0.6567, 'learning_rate': 0.00023220338983050845, 'epoch': 0.25, 'step': 450}, {'eval_loss': 0.6495810151100159, 'eval_runtime': 20.8817, 'eval_samples_per_second': 9.578, 'eval_steps_per_second': 0.623, 'epoch': 0.25, 'step': 450}, {'loss': 0.6604, 'learning_rate': 0.0001559322033898305, 'epoch': 0.49, 'step': 900}, {'eval_loss': 0.6438479423522949, 'eval_runtime': 20.8671, 'eval_samples_per_second': 9.584, 'eval_steps_per_second': 0.623, 'epoch': 0.49, 'step': 900}, {'loss': 0.6651, 'learning_rate': 7.966101694915254e-05, 'epoch': 0.74, 'step': 1350}, {'eval_loss': 0.6362382769584656, 'eval_runtime': 20.882, 'eval_samples_per_second': 9.578, 'eval_steps_per_second': 0.623, 'epoch': 0.74, 'step': 1350}, {'loss': 0.6788, 'learning_rate': 3.389830508474576e-06, 'epoch': 0.99, 'step': 1800}, {'eval_loss': 0.633888304233551, 'eval_runtime': 20.8811, 'eval_samples_per_second': 9.578, 'eval_steps_per_second': 0.623, 'epoch': 0.99, 'step': 1800}, {'train_runtime': 9762.3204, 'train_samples_per_second': 2.983, 'train_steps_per_second': 0.186, 'total_flos': 5.860082687075942e+16, 'train_loss': 0.6655505159399011, 'epoch': 1.0, 'step': 1820}]\n"
     ]
    }
   ],
   "source": [
    "train_batch_size = 16\n",
    "eval_batch_size = 16\n",
    "\n",
    "training_args = Seq2SeqTrainingArguments(\n",
    "    num_train_epochs = 1,\n",
    "    learning_rate = 3e-4,\n",
    "    lr_scheduler_type = \"linear\",\n",
    "    weight_decay = 0,\n",
    "    warmup_steps = 50,\n",
    "    optim=\"adafactor\",\n",
    "#     optim=\"adamw_apex_fused\",\n",
    "    \n",
    "#     auto_find_batch_size=True,\n",
    "    per_device_train_batch_size=train_batch_size,\n",
    "    per_device_eval_batch_size=eval_batch_size, \n",
    "    gradient_checkpointing = True,\n",
    "    gradient_accumulation_steps = max(1, train_batch_size // 32),\n",
    "    eval_accumulation_steps = max(1, 64 // eval_batch_size),\n",
    "    \n",
    "    output_dir=\"/kaggle/working/lora_trained\",\n",
    "    logging_dir='/kaggle/working/training_logs',  \n",
    "    overwrite_output_dir=True,\n",
    "    save_steps=1800,\n",
    "    save_total_limit = 1,\n",
    "    do_train = True,\n",
    "    do_eval = True,\n",
    "    evaluation_strategy = 'steps',\n",
    "    logging_steps=450,# 100\n",
    "    \n",
    "    fp16 = False, # it may cause training errors: https://discuss.huggingface.co/t/training-loss-0-0-validation-loss-nan/27950/3\n",
    "#     jit_mode_eval = True,\n",
    "    seed = 42,\n",
    "#     report_to=\"wandb\"\n",
    ")\n",
    "\n",
    "\n",
    "\n",
    "\n",
    "for i in range(3):\n",
    "    print('checkpoint', i)\n",
    "    try:\n",
    "        trainer = Seq2SeqTrainer(\n",
    "            model=peft_model,\n",
    "            args=training_args,\n",
    "            train_dataset=tokenized_train_data[\"train\"],\n",
    "            eval_dataset=tokenized_train_data[\"test\"],\n",
    "            tokenizer=tokenizer,\n",
    "            data_collator=data_collator\n",
    "        )\n",
    "        trainer.train()\n",
    "    except Exception as ex:\n",
    "        print(ex)\n",
    "    finally:\n",
    "        print(trainer.state.log_history)\n",
    "        peft_model_path=f\"peft-checkpoint-{i}\"\n",
    "\n",
    "        trainer.model.save_pretrained(peft_model_path)\n",
    "        tokenizer.save_pretrained(peft_model_path)"
   ]
  },
  {
   "cell_type": "code",
   "execution_count": 21,
   "metadata": {
    "execution": {
     "iopub.execute_input": "2023-12-11T17:21:34.963670Z",
     "iopub.status.busy": "2023-12-11T17:21:34.962979Z",
     "iopub.status.idle": "2023-12-11T17:21:34.966156Z",
     "shell.execute_reply": "2023-12-11T17:21:34.966619Z"
    },
    "papermill": {
     "duration": 0.058945,
     "end_time": "2023-12-11T17:21:34.966753",
     "exception": false,
     "start_time": "2023-12-11T17:21:34.907808",
     "status": "completed"
    },
    "tags": []
   },
   "outputs": [
    {
     "name": "stdout",
     "output_type": "stream",
     "text": [
      "[{'loss': 0.6567, 'learning_rate': 0.00023220338983050845, 'epoch': 0.25, 'step': 450}, {'eval_loss': 0.6495810151100159, 'eval_runtime': 20.8817, 'eval_samples_per_second': 9.578, 'eval_steps_per_second': 0.623, 'epoch': 0.25, 'step': 450}, {'loss': 0.6604, 'learning_rate': 0.0001559322033898305, 'epoch': 0.49, 'step': 900}, {'eval_loss': 0.6438479423522949, 'eval_runtime': 20.8671, 'eval_samples_per_second': 9.584, 'eval_steps_per_second': 0.623, 'epoch': 0.49, 'step': 900}, {'loss': 0.6651, 'learning_rate': 7.966101694915254e-05, 'epoch': 0.74, 'step': 1350}, {'eval_loss': 0.6362382769584656, 'eval_runtime': 20.882, 'eval_samples_per_second': 9.578, 'eval_steps_per_second': 0.623, 'epoch': 0.74, 'step': 1350}, {'loss': 0.6788, 'learning_rate': 3.389830508474576e-06, 'epoch': 0.99, 'step': 1800}, {'eval_loss': 0.633888304233551, 'eval_runtime': 20.8811, 'eval_samples_per_second': 9.578, 'eval_steps_per_second': 0.623, 'epoch': 0.99, 'step': 1800}, {'train_runtime': 9762.3204, 'train_samples_per_second': 2.983, 'train_steps_per_second': 0.186, 'total_flos': 5.860082687075942e+16, 'train_loss': 0.6655505159399011, 'epoch': 1.0, 'step': 1820}]\n"
     ]
    }
   ],
   "source": [
    "print(trainer.state.log_history)"
   ]
  },
  {
   "cell_type": "code",
   "execution_count": 22,
   "metadata": {
    "execution": {
     "iopub.execute_input": "2023-12-11T17:21:35.064572Z",
     "iopub.status.busy": "2023-12-11T17:21:35.063924Z",
     "iopub.status.idle": "2023-12-11T17:21:35.067010Z",
     "shell.execute_reply": "2023-12-11T17:21:35.066403Z",
     "shell.execute_reply.started": "2023-12-02T12:39:16.442623Z"
    },
    "papermill": {
     "duration": 0.054159,
     "end_time": "2023-12-11T17:21:35.067112",
     "exception": false,
     "start_time": "2023-12-11T17:21:35.012953",
     "status": "completed"
    },
    "tags": []
   },
   "outputs": [],
   "source": [
    "# # simple inference example\n",
    "# q = 'Доставка пиццы Эшли стоит 15 долларов. Какова общая сумма, которую Эшли должна дать доставщику, если она хочет дать чаевые, равные 1/5 заказанной суммы?'\n",
    "# lm_text=f'<SC6>Задача: {q}\\nРешение:<extra_id_0>####<extra_id_1>'\n",
    "# # answer: 18\n",
    "# input_ids=torch.tensor([tokenizer.encode(lm_text)]).to(device)\n",
    "# outputs=model.generate(input_ids,\n",
    "#                        do_sample = True,\n",
    "#                        top_p = 0.9,\n",
    "#                        temperature=0.2,\n",
    "#                        repetition_penalty = 2.0,\n",
    "#                        min_length = 30,\n",
    "#                        max_length = 450,\n",
    "#                        eos_token_id=tokenizer.eos_token_id,\n",
    "#                        early_stopping=True)\n",
    "# tokenizer.decode(outputs[0][1:])"
   ]
  },
  {
   "cell_type": "markdown",
   "metadata": {
    "papermill": {
     "duration": 0.045961,
     "end_time": "2023-12-11T17:21:35.159189",
     "exception": false,
     "start_time": "2023-12-11T17:21:35.113228",
     "status": "completed"
    },
    "tags": []
   },
   "source": [
    "# Test"
   ]
  },
  {
   "cell_type": "code",
   "execution_count": 23,
   "metadata": {
    "execution": {
     "iopub.execute_input": "2023-12-11T17:21:35.255326Z",
     "iopub.status.busy": "2023-12-11T17:21:35.254648Z",
     "iopub.status.idle": "2023-12-11T17:21:35.257350Z",
     "shell.execute_reply": "2023-12-11T17:21:35.256814Z"
    },
    "papermill": {
     "duration": 0.052377,
     "end_time": "2023-12-11T17:21:35.257461",
     "exception": false,
     "start_time": "2023-12-11T17:21:35.205084",
     "status": "completed"
    },
    "tags": []
   },
   "outputs": [],
   "source": [
    "# peft_model_path=\"/kaggle/working/peft-checkpoint\"\n",
    "\n",
    "# peft_trainer.model.save_pretrained(peft_model_path)\n",
    "# tokenizer.save_pretrained(peft_model_path)"
   ]
  },
  {
   "cell_type": "code",
   "execution_count": 24,
   "metadata": {
    "execution": {
     "iopub.execute_input": "2023-12-11T17:21:35.355364Z",
     "iopub.status.busy": "2023-12-11T17:21:35.354713Z",
     "iopub.status.idle": "2023-12-11T17:21:35.357667Z",
     "shell.execute_reply": "2023-12-11T17:21:35.357112Z"
    },
    "papermill": {
     "duration": 0.053674,
     "end_time": "2023-12-11T17:21:35.357767",
     "exception": false,
     "start_time": "2023-12-11T17:21:35.304093",
     "status": "completed"
    },
    "tags": []
   },
   "outputs": [],
   "source": [
    "# test no exec\n",
    "# texts = [f'<SC6>Задача: {d[\"question\"]}\\nРешение:<extra_id_0>####<extra_id_1>' for d in train_data[\"test\"]]\n",
    "# answers = [d['answer'].split('####')[-1].strip() for d in train_data[\"test\"]]\n",
    "# N = 10\n",
    "# correct_answers = 0\n",
    "# for i, (text, answer) in enumerate(zip(texts[:N], answers[:N])):\n",
    "#     input_ids=torch.tensor([tokenizer.encode(text)]).to(device)\n",
    "#     outputs=model.generate(input_ids,\n",
    "#                            eos_token_id=tokenizer.eos_token_id,\n",
    "#                            early_stopping=True,\n",
    "#                            top_p=0.9,\n",
    "#                            temperature=0.2,\n",
    "#                            repetition_penalty=2.0,\n",
    "#                            min_length=50,\n",
    "#                            max_length=512\n",
    "#                           )\n",
    "#     output = tokenizer.decode(outputs[0][1:])\n",
    "#     print(f'=====[{i}]=====')\n",
    "#     print('output:', output)\n",
    "#     try:\n",
    "#         output = output.split('<extra_id_1>')\n",
    "#         if len(output) == 2:\n",
    "#             pred = float(output[1].strip())\n",
    "#         real = float(answer.split('####')[-1].strip())\n",
    "#         error = abs(output - real)\n",
    "#     except Exception as ex:\n",
    "#         print(ex)\n",
    "#         error = 1\n",
    "#     if error < 1e-2:\n",
    "#         correct_answers += 1\n",
    "#         print('Successful')\n",
    "#     else:\n",
    "#         print('Wrong')"
   ]
  },
  {
   "cell_type": "code",
   "execution_count": 25,
   "metadata": {
    "execution": {
     "iopub.execute_input": "2023-12-11T17:21:35.454578Z",
     "iopub.status.busy": "2023-12-11T17:21:35.453944Z",
     "iopub.status.idle": "2023-12-11T17:21:35.456740Z",
     "shell.execute_reply": "2023-12-11T17:21:35.456116Z"
    },
    "papermill": {
     "duration": 0.052611,
     "end_time": "2023-12-11T17:21:35.456850",
     "exception": false,
     "start_time": "2023-12-11T17:21:35.404239",
     "status": "completed"
    },
    "tags": []
   },
   "outputs": [],
   "source": [
    "# correct_answers, train_data[\"test\"].num_rows, correct_answers / train_data[\"test\"].num_rows"
   ]
  },
  {
   "cell_type": "code",
   "execution_count": null,
   "metadata": {
    "papermill": {
     "duration": 0.046725,
     "end_time": "2023-12-11T17:21:35.550213",
     "exception": false,
     "start_time": "2023-12-11T17:21:35.503488",
     "status": "completed"
    },
    "tags": []
   },
   "outputs": [],
   "source": []
  }
 ],
 "metadata": {
  "kaggle": {
   "accelerator": "gpu",
   "dataSources": [
    {
     "datasetId": 4047770,
     "sourceId": 7065764,
     "sourceType": "datasetVersion"
    },
    {
     "datasetId": 4100570,
     "sourceId": 7111521,
     "sourceType": "datasetVersion"
    },
    {
     "datasetId": 4135801,
     "isSourceIdPinned": true,
     "sourceId": 7173944,
     "sourceType": "datasetVersion"
    }
   ],
   "dockerImageVersionId": 30028,
   "isGpuEnabled": true,
   "isInternetEnabled": true,
   "language": "python",
   "sourceType": "notebook"
  },
  "kernelspec": {
   "display_name": "Python 3",
   "language": "python",
   "name": "python3"
  },
  "language_info": {
   "codemirror_mode": {
    "name": "ipython",
    "version": 3
   },
   "file_extension": ".py",
   "mimetype": "text/x-python",
   "name": "python",
   "nbconvert_exporter": "python",
   "pygments_lexer": "ipython3",
   "version": "3.7.6"
  },
  "papermill": {
   "duration": 29594.81424,
   "end_time": "2023-12-11T17:21:36.108133",
   "environment_variables": {},
   "exception": null,
   "input_path": "__notebook__.ipynb",
   "output_path": "__notebook__.ipynb",
   "parameters": {},
   "start_time": "2023-12-11T09:08:21.293893",
   "version": "2.1.0"
  },
  "widgets": {
   "application/vnd.jupyter.widget-state+json": {
    "state": {
     "005e096537c2456492fe7dd2fe6a195f": {
      "model_module": "@jupyter-widgets/controls",
      "model_module_version": "1.5.0",
      "model_name": "HBoxModel",
      "state": {
       "_dom_classes": [],
       "_model_module": "@jupyter-widgets/controls",
       "_model_module_version": "1.5.0",
       "_model_name": "HBoxModel",
       "_view_count": null,
       "_view_module": "@jupyter-widgets/controls",
       "_view_module_version": "1.5.0",
       "_view_name": "HBoxView",
       "box_style": "",
       "children": [
        "IPY_MODEL_1c651930583e4e38b42cd8c0fa8c250d",
        "IPY_MODEL_09de57a178404991a8d82ebf5755c2f3"
       ],
       "layout": "IPY_MODEL_d887dbef3f3b4f25a5cd4c665cba2e92"
      }
     },
     "010026ce77ba476cb81ffa1393222929": {
      "model_module": "@jupyter-widgets/controls",
      "model_module_version": "1.5.0",
      "model_name": "FloatProgressModel",
      "state": {
       "_dom_classes": [],
       "_model_module": "@jupyter-widgets/controls",
       "_model_module_version": "1.5.0",
       "_model_name": "FloatProgressModel",
       "_view_count": null,
       "_view_module": "@jupyter-widgets/controls",
       "_view_module_version": "1.5.0",
       "_view_name": "ProgressView",
       "bar_style": "success",
       "description": "100%",
       "description_tooltip": null,
       "layout": "IPY_MODEL_384a8d77f4bd4c8f8c701533e24c7bd8",
       "max": 1.0,
       "min": 0.0,
       "orientation": "horizontal",
       "style": "IPY_MODEL_9600d092c8b340149d08d28b2eb74408",
       "value": 1.0
      }
     },
     "09de57a178404991a8d82ebf5755c2f3": {
      "model_module": "@jupyter-widgets/controls",
      "model_module_version": "1.5.0",
      "model_name": "HTMLModel",
      "state": {
       "_dom_classes": [],
       "_model_module": "@jupyter-widgets/controls",
       "_model_module_version": "1.5.0",
       "_model_name": "HTMLModel",
       "_view_count": null,
       "_view_module": "@jupyter-widgets/controls",
       "_view_module_version": "1.5.0",
       "_view_name": "HTMLView",
       "description": "",
       "description_tooltip": null,
       "layout": "IPY_MODEL_cdeddab5acbe44c883898fa9a19fb129",
       "placeholder": "​",
       "style": "IPY_MODEL_b680ef138a844ea1a0291f7e8299321a",
       "value": " 6.96G/6.96G [00:25&lt;00:00, 270MB/s]"
      }
     },
     "0b341709c4d945fe8c80a3eefc3e97f5": {
      "model_module": "@jupyter-widgets/base",
      "model_module_version": "1.2.0",
      "model_name": "LayoutModel",
      "state": {
       "_model_module": "@jupyter-widgets/base",
       "_model_module_version": "1.2.0",
       "_model_name": "LayoutModel",
       "_view_count": null,
       "_view_module": "@jupyter-widgets/base",
       "_view_module_version": "1.2.0",
       "_view_name": "LayoutView",
       "align_content": null,
       "align_items": null,
       "align_self": null,
       "border": null,
       "bottom": null,
       "display": null,
       "flex": null,
       "flex_flow": null,
       "grid_area": null,
       "grid_auto_columns": null,
       "grid_auto_flow": null,
       "grid_auto_rows": null,
       "grid_column": null,
       "grid_gap": null,
       "grid_row": null,
       "grid_template_areas": null,
       "grid_template_columns": null,
       "grid_template_rows": null,
       "height": null,
       "justify_content": null,
       "justify_items": null,
       "left": null,
       "margin": null,
       "max_height": null,
       "max_width": null,
       "min_height": null,
       "min_width": null,
       "object_fit": null,
       "object_position": null,
       "order": null,
       "overflow": null,
       "overflow_x": null,
       "overflow_y": null,
       "padding": null,
       "right": null,
       "top": null,
       "visibility": null,
       "width": null
      }
     },
     "0b67fd2535384367a672c5425a85ae21": {
      "model_module": "@jupyter-widgets/controls",
      "model_module_version": "1.5.0",
      "model_name": "ProgressStyleModel",
      "state": {
       "_model_module": "@jupyter-widgets/controls",
       "_model_module_version": "1.5.0",
       "_model_name": "ProgressStyleModel",
       "_view_count": null,
       "_view_module": "@jupyter-widgets/base",
       "_view_module_version": "1.2.0",
       "_view_name": "StyleView",
       "bar_color": null,
       "description_width": "initial"
      }
     },
     "13c4ee0f9f1742a5b493c643cc5bbc3f": {
      "model_module": "@jupyter-widgets/controls",
      "model_module_version": "1.5.0",
      "model_name": "ProgressStyleModel",
      "state": {
       "_model_module": "@jupyter-widgets/controls",
       "_model_module_version": "1.5.0",
       "_model_name": "ProgressStyleModel",
       "_view_count": null,
       "_view_module": "@jupyter-widgets/base",
       "_view_module_version": "1.2.0",
       "_view_name": "StyleView",
       "bar_color": null,
       "description_width": "initial"
      }
     },
     "14554334d42545dd997353a8e83fa9a7": {
      "model_module": "@jupyter-widgets/base",
      "model_module_version": "1.2.0",
      "model_name": "LayoutModel",
      "state": {
       "_model_module": "@jupyter-widgets/base",
       "_model_module_version": "1.2.0",
       "_model_name": "LayoutModel",
       "_view_count": null,
       "_view_module": "@jupyter-widgets/base",
       "_view_module_version": "1.2.0",
       "_view_name": "LayoutView",
       "align_content": null,
       "align_items": null,
       "align_self": null,
       "border": null,
       "bottom": null,
       "display": null,
       "flex": null,
       "flex_flow": null,
       "grid_area": null,
       "grid_auto_columns": null,
       "grid_auto_flow": null,
       "grid_auto_rows": null,
       "grid_column": null,
       "grid_gap": null,
       "grid_row": null,
       "grid_template_areas": null,
       "grid_template_columns": null,
       "grid_template_rows": null,
       "height": null,
       "justify_content": null,
       "justify_items": null,
       "left": null,
       "margin": null,
       "max_height": null,
       "max_width": null,
       "min_height": null,
       "min_width": null,
       "object_fit": null,
       "object_position": null,
       "order": null,
       "overflow": null,
       "overflow_x": null,
       "overflow_y": null,
       "padding": null,
       "right": null,
       "top": null,
       "visibility": null,
       "width": null
      }
     },
     "1a31028370cf441f85b3103e40a40e2b": {
      "model_module": "@jupyter-widgets/controls",
      "model_module_version": "1.5.0",
      "model_name": "FloatProgressModel",
      "state": {
       "_dom_classes": [],
       "_model_module": "@jupyter-widgets/controls",
       "_model_module_version": "1.5.0",
       "_model_name": "FloatProgressModel",
       "_view_count": null,
       "_view_module": "@jupyter-widgets/controls",
       "_view_module_version": "1.5.0",
       "_view_name": "ProgressView",
       "bar_style": "success",
       "description": "100%",
       "description_tooltip": null,
       "layout": "IPY_MODEL_14554334d42545dd997353a8e83fa9a7",
       "max": 2.0,
       "min": 0.0,
       "orientation": "horizontal",
       "style": "IPY_MODEL_591aa04c01f14545a647592a61e34a28",
       "value": 2.0
      }
     },
     "1c651930583e4e38b42cd8c0fa8c250d": {
      "model_module": "@jupyter-widgets/controls",
      "model_module_version": "1.5.0",
      "model_name": "FloatProgressModel",
      "state": {
       "_dom_classes": [],
       "_model_module": "@jupyter-widgets/controls",
       "_model_module_version": "1.5.0",
       "_model_name": "FloatProgressModel",
       "_view_count": null,
       "_view_module": "@jupyter-widgets/controls",
       "_view_module_version": "1.5.0",
       "_view_name": "ProgressView",
       "bar_style": "success",
       "description": "Downloading pytorch_model.bin: 100%",
       "description_tooltip": null,
       "layout": "IPY_MODEL_6fdac00d364b428b882771708ef8b1d7",
       "max": 6961671585.0,
       "min": 0.0,
       "orientation": "horizontal",
       "style": "IPY_MODEL_1d83cdcaf6524dd5ac6528333a981c95",
       "value": 6961671585.0
      }
     },
     "1d83cdcaf6524dd5ac6528333a981c95": {
      "model_module": "@jupyter-widgets/controls",
      "model_module_version": "1.5.0",
      "model_name": "ProgressStyleModel",
      "state": {
       "_model_module": "@jupyter-widgets/controls",
       "_model_module_version": "1.5.0",
       "_model_name": "ProgressStyleModel",
       "_view_count": null,
       "_view_module": "@jupyter-widgets/base",
       "_view_module_version": "1.2.0",
       "_view_name": "StyleView",
       "bar_color": null,
       "description_width": "initial"
      }
     },
     "1e4ee66aefab499c99cce76dc0d7df2c": {
      "model_module": "@jupyter-widgets/controls",
      "model_module_version": "1.5.0",
      "model_name": "ProgressStyleModel",
      "state": {
       "_model_module": "@jupyter-widgets/controls",
       "_model_module_version": "1.5.0",
       "_model_name": "ProgressStyleModel",
       "_view_count": null,
       "_view_module": "@jupyter-widgets/base",
       "_view_module_version": "1.2.0",
       "_view_name": "StyleView",
       "bar_color": null,
       "description_width": "initial"
      }
     },
     "1e7669fc509c4e409153a4070c5685a9": {
      "model_module": "@jupyter-widgets/base",
      "model_module_version": "1.2.0",
      "model_name": "LayoutModel",
      "state": {
       "_model_module": "@jupyter-widgets/base",
       "_model_module_version": "1.2.0",
       "_model_name": "LayoutModel",
       "_view_count": null,
       "_view_module": "@jupyter-widgets/base",
       "_view_module_version": "1.2.0",
       "_view_name": "LayoutView",
       "align_content": null,
       "align_items": null,
       "align_self": null,
       "border": null,
       "bottom": null,
       "display": null,
       "flex": null,
       "flex_flow": null,
       "grid_area": null,
       "grid_auto_columns": null,
       "grid_auto_flow": null,
       "grid_auto_rows": null,
       "grid_column": null,
       "grid_gap": null,
       "grid_row": null,
       "grid_template_areas": null,
       "grid_template_columns": null,
       "grid_template_rows": null,
       "height": null,
       "justify_content": null,
       "justify_items": null,
       "left": null,
       "margin": null,
       "max_height": null,
       "max_width": null,
       "min_height": null,
       "min_width": null,
       "object_fit": null,
       "object_position": null,
       "order": null,
       "overflow": null,
       "overflow_x": null,
       "overflow_y": null,
       "padding": null,
       "right": null,
       "top": null,
       "visibility": null,
       "width": null
      }
     },
     "202aebcc3ccf4b9a8d14eaeffc98acb3": {
      "model_module": "@jupyter-widgets/controls",
      "model_module_version": "1.5.0",
      "model_name": "HTMLModel",
      "state": {
       "_dom_classes": [],
       "_model_module": "@jupyter-widgets/controls",
       "_model_module_version": "1.5.0",
       "_model_name": "HTMLModel",
       "_view_count": null,
       "_view_module": "@jupyter-widgets/controls",
       "_view_module_version": "1.5.0",
       "_view_name": "HTMLView",
       "description": "",
       "description_tooltip": null,
       "layout": "IPY_MODEL_9211303f352c4f19a97b31d7f4a12892",
       "placeholder": "​",
       "style": "IPY_MODEL_371f222f24d9480c936fa424ce1097a5",
       "value": " 2/2 [00:00&lt;00:00, 10.88it/s]"
      }
     },
     "23f331111b5e42dd8f9a54b878d3bd22": {
      "model_module": "@jupyter-widgets/controls",
      "model_module_version": "1.5.0",
      "model_name": "FloatProgressModel",
      "state": {
       "_dom_classes": [],
       "_model_module": "@jupyter-widgets/controls",
       "_model_module_version": "1.5.0",
       "_model_name": "FloatProgressModel",
       "_view_count": null,
       "_view_module": "@jupyter-widgets/controls",
       "_view_module_version": "1.5.0",
       "_view_name": "ProgressView",
       "bar_style": "success",
       "description": "100%",
       "description_tooltip": null,
       "layout": "IPY_MODEL_dc4a2ee9891144faacaa2265ca5f5f3e",
       "max": 30.0,
       "min": 0.0,
       "orientation": "horizontal",
       "style": "IPY_MODEL_da721dbf6f8946f0ab6fbb6737f1c763",
       "value": 30.0
      }
     },
     "250abbc31777419cbb87c1b936a62e9c": {
      "model_module": "@jupyter-widgets/base",
      "model_module_version": "1.2.0",
      "model_name": "LayoutModel",
      "state": {
       "_model_module": "@jupyter-widgets/base",
       "_model_module_version": "1.2.0",
       "_model_name": "LayoutModel",
       "_view_count": null,
       "_view_module": "@jupyter-widgets/base",
       "_view_module_version": "1.2.0",
       "_view_name": "LayoutView",
       "align_content": null,
       "align_items": null,
       "align_self": null,
       "border": null,
       "bottom": null,
       "display": null,
       "flex": null,
       "flex_flow": null,
       "grid_area": null,
       "grid_auto_columns": null,
       "grid_auto_flow": null,
       "grid_auto_rows": null,
       "grid_column": null,
       "grid_gap": null,
       "grid_row": null,
       "grid_template_areas": null,
       "grid_template_columns": null,
       "grid_template_rows": null,
       "height": null,
       "justify_content": null,
       "justify_items": null,
       "left": null,
       "margin": null,
       "max_height": null,
       "max_width": null,
       "min_height": null,
       "min_width": null,
       "object_fit": null,
       "object_position": null,
       "order": null,
       "overflow": null,
       "overflow_x": null,
       "overflow_y": null,
       "padding": null,
       "right": null,
       "top": null,
       "visibility": null,
       "width": null
      }
     },
     "2a9a1270500541ca9fa812edb736343e": {
      "model_module": "@jupyter-widgets/base",
      "model_module_version": "1.2.0",
      "model_name": "LayoutModel",
      "state": {
       "_model_module": "@jupyter-widgets/base",
       "_model_module_version": "1.2.0",
       "_model_name": "LayoutModel",
       "_view_count": null,
       "_view_module": "@jupyter-widgets/base",
       "_view_module_version": "1.2.0",
       "_view_name": "LayoutView",
       "align_content": null,
       "align_items": null,
       "align_self": null,
       "border": null,
       "bottom": null,
       "display": null,
       "flex": null,
       "flex_flow": null,
       "grid_area": null,
       "grid_auto_columns": null,
       "grid_auto_flow": null,
       "grid_auto_rows": null,
       "grid_column": null,
       "grid_gap": null,
       "grid_row": null,
       "grid_template_areas": null,
       "grid_template_columns": null,
       "grid_template_rows": null,
       "height": null,
       "justify_content": null,
       "justify_items": null,
       "left": null,
       "margin": null,
       "max_height": null,
       "max_width": null,
       "min_height": null,
       "min_width": null,
       "object_fit": null,
       "object_position": null,
       "order": null,
       "overflow": null,
       "overflow_x": null,
       "overflow_y": null,
       "padding": null,
       "right": null,
       "top": null,
       "visibility": null,
       "width": null
      }
     },
     "2d58e079af8d49b8b01d0bf1a3b41bc6": {
      "model_module": "@jupyter-widgets/controls",
      "model_module_version": "1.5.0",
      "model_name": "HBoxModel",
      "state": {
       "_dom_classes": [],
       "_model_module": "@jupyter-widgets/controls",
       "_model_module_version": "1.5.0",
       "_model_name": "HBoxModel",
       "_view_count": null,
       "_view_module": "@jupyter-widgets/controls",
       "_view_module_version": "1.5.0",
       "_view_name": "HBoxView",
       "box_style": "",
       "children": [
        "IPY_MODEL_2e5006b58b9d4cf297b47bab2bd32cb9",
        "IPY_MODEL_7407bd367ff449d58c43e829da5c6929"
       ],
       "layout": "IPY_MODEL_fb074a7a294846ca85c394ef0a823c9b"
      }
     },
     "2e5006b58b9d4cf297b47bab2bd32cb9": {
      "model_module": "@jupyter-widgets/controls",
      "model_module_version": "1.5.0",
      "model_name": "FloatProgressModel",
      "state": {
       "_dom_classes": [],
       "_model_module": "@jupyter-widgets/controls",
       "_model_module_version": "1.5.0",
       "_model_name": "FloatProgressModel",
       "_view_count": null,
       "_view_module": "@jupyter-widgets/controls",
       "_view_module_version": "1.5.0",
       "_view_name": "ProgressView",
       "bar_style": "success",
       "description": "Downloading merges.txt: 100%",
       "description_tooltip": null,
       "layout": "IPY_MODEL_7c38c9825da6435a807b289da945dd51",
       "max": 1270925.0,
       "min": 0.0,
       "orientation": "horizontal",
       "style": "IPY_MODEL_f74382031da949cf847c476aafe73496",
       "value": 1270925.0
      }
     },
     "31472dc5a905489a8014b242c039c6f2": {
      "model_module": "@jupyter-widgets/controls",
      "model_module_version": "1.5.0",
      "model_name": "DescriptionStyleModel",
      "state": {
       "_model_module": "@jupyter-widgets/controls",
       "_model_module_version": "1.5.0",
       "_model_name": "DescriptionStyleModel",
       "_view_count": null,
       "_view_module": "@jupyter-widgets/base",
       "_view_module_version": "1.2.0",
       "_view_name": "StyleView",
       "description_width": ""
      }
     },
     "3567d102a7734e69829968a5f3a87b8d": {
      "model_module": "@jupyter-widgets/controls",
      "model_module_version": "1.5.0",
      "model_name": "HTMLModel",
      "state": {
       "_dom_classes": [],
       "_model_module": "@jupyter-widgets/controls",
       "_model_module_version": "1.5.0",
       "_model_name": "HTMLModel",
       "_view_count": null,
       "_view_module": "@jupyter-widgets/controls",
       "_view_module_version": "1.5.0",
       "_view_name": "HTMLView",
       "description": "",
       "description_tooltip": null,
       "layout": "IPY_MODEL_f512554094fa4e50bb1acdb3e8e5a191",
       "placeholder": "​",
       "style": "IPY_MODEL_830a8a2a1fe84e3c918ec050819fa040",
       "value": " 653/653 [00:00&lt;00:00, 4.35kB/s]"
      }
     },
     "371f222f24d9480c936fa424ce1097a5": {
      "model_module": "@jupyter-widgets/controls",
      "model_module_version": "1.5.0",
      "model_name": "DescriptionStyleModel",
      "state": {
       "_model_module": "@jupyter-widgets/controls",
       "_model_module_version": "1.5.0",
       "_model_name": "DescriptionStyleModel",
       "_view_count": null,
       "_view_module": "@jupyter-widgets/base",
       "_view_module_version": "1.2.0",
       "_view_name": "StyleView",
       "description_width": ""
      }
     },
     "384a8d77f4bd4c8f8c701533e24c7bd8": {
      "model_module": "@jupyter-widgets/base",
      "model_module_version": "1.2.0",
      "model_name": "LayoutModel",
      "state": {
       "_model_module": "@jupyter-widgets/base",
       "_model_module_version": "1.2.0",
       "_model_name": "LayoutModel",
       "_view_count": null,
       "_view_module": "@jupyter-widgets/base",
       "_view_module_version": "1.2.0",
       "_view_name": "LayoutView",
       "align_content": null,
       "align_items": null,
       "align_self": null,
       "border": null,
       "bottom": null,
       "display": null,
       "flex": null,
       "flex_flow": null,
       "grid_area": null,
       "grid_auto_columns": null,
       "grid_auto_flow": null,
       "grid_auto_rows": null,
       "grid_column": null,
       "grid_gap": null,
       "grid_row": null,
       "grid_template_areas": null,
       "grid_template_columns": null,
       "grid_template_rows": null,
       "height": null,
       "justify_content": null,
       "justify_items": null,
       "left": null,
       "margin": null,
       "max_height": null,
       "max_width": null,
       "min_height": null,
       "min_width": null,
       "object_fit": null,
       "object_position": null,
       "order": null,
       "overflow": null,
       "overflow_x": null,
       "overflow_y": null,
       "padding": null,
       "right": null,
       "top": null,
       "visibility": null,
       "width": null
      }
     },
     "414d75ddf1ea4deeb0b4aaa338f12acf": {
      "model_module": "@jupyter-widgets/controls",
      "model_module_version": "1.5.0",
      "model_name": "ProgressStyleModel",
      "state": {
       "_model_module": "@jupyter-widgets/controls",
       "_model_module_version": "1.5.0",
       "_model_name": "ProgressStyleModel",
       "_view_count": null,
       "_view_module": "@jupyter-widgets/base",
       "_view_module_version": "1.2.0",
       "_view_name": "StyleView",
       "bar_color": null,
       "description_width": "initial"
      }
     },
     "41d9adb6c8d6423ead7cc0d734759f59": {
      "model_module": "@jupyter-widgets/controls",
      "model_module_version": "1.5.0",
      "model_name": "DescriptionStyleModel",
      "state": {
       "_model_module": "@jupyter-widgets/controls",
       "_model_module_version": "1.5.0",
       "_model_name": "DescriptionStyleModel",
       "_view_count": null,
       "_view_module": "@jupyter-widgets/base",
       "_view_module_version": "1.2.0",
       "_view_name": "StyleView",
       "description_width": ""
      }
     },
     "436a9e8601f44ffcb22a812a55ef42eb": {
      "model_module": "@jupyter-widgets/base",
      "model_module_version": "1.2.0",
      "model_name": "LayoutModel",
      "state": {
       "_model_module": "@jupyter-widgets/base",
       "_model_module_version": "1.2.0",
       "_model_name": "LayoutModel",
       "_view_count": null,
       "_view_module": "@jupyter-widgets/base",
       "_view_module_version": "1.2.0",
       "_view_name": "LayoutView",
       "align_content": null,
       "align_items": null,
       "align_self": null,
       "border": null,
       "bottom": null,
       "display": null,
       "flex": null,
       "flex_flow": null,
       "grid_area": null,
       "grid_auto_columns": null,
       "grid_auto_flow": null,
       "grid_auto_rows": null,
       "grid_column": null,
       "grid_gap": null,
       "grid_row": null,
       "grid_template_areas": null,
       "grid_template_columns": null,
       "grid_template_rows": null,
       "height": null,
       "justify_content": null,
       "justify_items": null,
       "left": null,
       "margin": null,
       "max_height": null,
       "max_width": null,
       "min_height": null,
       "min_width": null,
       "object_fit": null,
       "object_position": null,
       "order": null,
       "overflow": null,
       "overflow_x": null,
       "overflow_y": null,
       "padding": null,
       "right": null,
       "top": null,
       "visibility": null,
       "width": null
      }
     },
     "46a4fa608c4a44a8984ff92f658032c5": {
      "model_module": "@jupyter-widgets/controls",
      "model_module_version": "1.5.0",
      "model_name": "HBoxModel",
      "state": {
       "_dom_classes": [],
       "_model_module": "@jupyter-widgets/controls",
       "_model_module_version": "1.5.0",
       "_model_name": "HBoxModel",
       "_view_count": null,
       "_view_module": "@jupyter-widgets/controls",
       "_view_module_version": "1.5.0",
       "_view_name": "HBoxView",
       "box_style": "",
       "children": [
        "IPY_MODEL_67a7dbbf998e4a4b84413b68752c9642",
        "IPY_MODEL_71c8c9acbfdb4b2bbab9a97babfc6ec2"
       ],
       "layout": "IPY_MODEL_898d48a918db4fff98155fe24023002d"
      }
     },
     "4a42939f88f44b2981229e3d5d6b1120": {
      "model_module": "@jupyter-widgets/controls",
      "model_module_version": "1.5.0",
      "model_name": "HBoxModel",
      "state": {
       "_dom_classes": [],
       "_model_module": "@jupyter-widgets/controls",
       "_model_module_version": "1.5.0",
       "_model_name": "HBoxModel",
       "_view_count": null,
       "_view_module": "@jupyter-widgets/controls",
       "_view_module_version": "1.5.0",
       "_view_name": "HBoxView",
       "box_style": "",
       "children": [
        "IPY_MODEL_bdcc2b5ce0024a858a7dcfad8a92f6c2",
        "IPY_MODEL_3567d102a7734e69829968a5f3a87b8d"
       ],
       "layout": "IPY_MODEL_f6a35273cd284d8985dbfe814684ce0b"
      }
     },
     "4f8cc63a894249c794dd7ffa06c50fe0": {
      "model_module": "@jupyter-widgets/base",
      "model_module_version": "1.2.0",
      "model_name": "LayoutModel",
      "state": {
       "_model_module": "@jupyter-widgets/base",
       "_model_module_version": "1.2.0",
       "_model_name": "LayoutModel",
       "_view_count": null,
       "_view_module": "@jupyter-widgets/base",
       "_view_module_version": "1.2.0",
       "_view_name": "LayoutView",
       "align_content": null,
       "align_items": null,
       "align_self": null,
       "border": null,
       "bottom": null,
       "display": null,
       "flex": null,
       "flex_flow": null,
       "grid_area": null,
       "grid_auto_columns": null,
       "grid_auto_flow": null,
       "grid_auto_rows": null,
       "grid_column": null,
       "grid_gap": null,
       "grid_row": null,
       "grid_template_areas": null,
       "grid_template_columns": null,
       "grid_template_rows": null,
       "height": null,
       "justify_content": null,
       "justify_items": null,
       "left": null,
       "margin": null,
       "max_height": null,
       "max_width": null,
       "min_height": null,
       "min_width": null,
       "object_fit": null,
       "object_position": null,
       "order": null,
       "overflow": null,
       "overflow_x": null,
       "overflow_y": null,
       "padding": null,
       "right": null,
       "top": null,
       "visibility": null,
       "width": null
      }
     },
     "50fdd95066764033b299da5155134f42": {
      "model_module": "@jupyter-widgets/controls",
      "model_module_version": "1.5.0",
      "model_name": "ProgressStyleModel",
      "state": {
       "_model_module": "@jupyter-widgets/controls",
       "_model_module_version": "1.5.0",
       "_model_name": "ProgressStyleModel",
       "_view_count": null,
       "_view_module": "@jupyter-widgets/base",
       "_view_module_version": "1.2.0",
       "_view_name": "StyleView",
       "bar_color": null,
       "description_width": "initial"
      }
     },
     "51e2f1e165dc41008247687ea4c4e4bb": {
      "model_module": "@jupyter-widgets/base",
      "model_module_version": "1.2.0",
      "model_name": "LayoutModel",
      "state": {
       "_model_module": "@jupyter-widgets/base",
       "_model_module_version": "1.2.0",
       "_model_name": "LayoutModel",
       "_view_count": null,
       "_view_module": "@jupyter-widgets/base",
       "_view_module_version": "1.2.0",
       "_view_name": "LayoutView",
       "align_content": null,
       "align_items": null,
       "align_self": null,
       "border": null,
       "bottom": null,
       "display": null,
       "flex": null,
       "flex_flow": null,
       "grid_area": null,
       "grid_auto_columns": null,
       "grid_auto_flow": null,
       "grid_auto_rows": null,
       "grid_column": null,
       "grid_gap": null,
       "grid_row": null,
       "grid_template_areas": null,
       "grid_template_columns": null,
       "grid_template_rows": null,
       "height": null,
       "justify_content": null,
       "justify_items": null,
       "left": null,
       "margin": null,
       "max_height": null,
       "max_width": null,
       "min_height": null,
       "min_width": null,
       "object_fit": null,
       "object_position": null,
       "order": null,
       "overflow": null,
       "overflow_x": null,
       "overflow_y": null,
       "padding": null,
       "right": null,
       "top": null,
       "visibility": null,
       "width": null
      }
     },
     "534376ced1ce402d9a4332df81d670eb": {
      "model_module": "@jupyter-widgets/controls",
      "model_module_version": "1.5.0",
      "model_name": "DescriptionStyleModel",
      "state": {
       "_model_module": "@jupyter-widgets/controls",
       "_model_module_version": "1.5.0",
       "_model_name": "DescriptionStyleModel",
       "_view_count": null,
       "_view_module": "@jupyter-widgets/base",
       "_view_module_version": "1.2.0",
       "_view_name": "StyleView",
       "description_width": ""
      }
     },
     "591aa04c01f14545a647592a61e34a28": {
      "model_module": "@jupyter-widgets/controls",
      "model_module_version": "1.5.0",
      "model_name": "ProgressStyleModel",
      "state": {
       "_model_module": "@jupyter-widgets/controls",
       "_model_module_version": "1.5.0",
       "_model_name": "ProgressStyleModel",
       "_view_count": null,
       "_view_module": "@jupyter-widgets/base",
       "_view_module_version": "1.2.0",
       "_view_name": "StyleView",
       "bar_color": null,
       "description_width": "initial"
      }
     },
     "5a4ebd82a47b42ba95ce8f791038f8db": {
      "model_module": "@jupyter-widgets/base",
      "model_module_version": "1.2.0",
      "model_name": "LayoutModel",
      "state": {
       "_model_module": "@jupyter-widgets/base",
       "_model_module_version": "1.2.0",
       "_model_name": "LayoutModel",
       "_view_count": null,
       "_view_module": "@jupyter-widgets/base",
       "_view_module_version": "1.2.0",
       "_view_name": "LayoutView",
       "align_content": null,
       "align_items": null,
       "align_self": null,
       "border": null,
       "bottom": null,
       "display": null,
       "flex": null,
       "flex_flow": null,
       "grid_area": null,
       "grid_auto_columns": null,
       "grid_auto_flow": null,
       "grid_auto_rows": null,
       "grid_column": null,
       "grid_gap": null,
       "grid_row": null,
       "grid_template_areas": null,
       "grid_template_columns": null,
       "grid_template_rows": null,
       "height": null,
       "justify_content": null,
       "justify_items": null,
       "left": null,
       "margin": null,
       "max_height": null,
       "max_width": null,
       "min_height": null,
       "min_width": null,
       "object_fit": null,
       "object_position": null,
       "order": null,
       "overflow": null,
       "overflow_x": null,
       "overflow_y": null,
       "padding": null,
       "right": null,
       "top": null,
       "visibility": null,
       "width": null
      }
     },
     "5ac09454c04b4986a69547a803beb7b4": {
      "model_module": "@jupyter-widgets/controls",
      "model_module_version": "1.5.0",
      "model_name": "DescriptionStyleModel",
      "state": {
       "_model_module": "@jupyter-widgets/controls",
       "_model_module_version": "1.5.0",
       "_model_name": "DescriptionStyleModel",
       "_view_count": null,
       "_view_module": "@jupyter-widgets/base",
       "_view_module_version": "1.2.0",
       "_view_name": "StyleView",
       "description_width": ""
      }
     },
     "5b9f2a97b91743c6921db9d69ca65656": {
      "model_module": "@jupyter-widgets/base",
      "model_module_version": "1.2.0",
      "model_name": "LayoutModel",
      "state": {
       "_model_module": "@jupyter-widgets/base",
       "_model_module_version": "1.2.0",
       "_model_name": "LayoutModel",
       "_view_count": null,
       "_view_module": "@jupyter-widgets/base",
       "_view_module_version": "1.2.0",
       "_view_name": "LayoutView",
       "align_content": null,
       "align_items": null,
       "align_self": null,
       "border": null,
       "bottom": null,
       "display": null,
       "flex": null,
       "flex_flow": null,
       "grid_area": null,
       "grid_auto_columns": null,
       "grid_auto_flow": null,
       "grid_auto_rows": null,
       "grid_column": null,
       "grid_gap": null,
       "grid_row": null,
       "grid_template_areas": null,
       "grid_template_columns": null,
       "grid_template_rows": null,
       "height": null,
       "justify_content": null,
       "justify_items": null,
       "left": null,
       "margin": null,
       "max_height": null,
       "max_width": null,
       "min_height": null,
       "min_width": null,
       "object_fit": null,
       "object_position": null,
       "order": null,
       "overflow": null,
       "overflow_x": null,
       "overflow_y": null,
       "padding": null,
       "right": null,
       "top": null,
       "visibility": null,
       "width": null
      }
     },
     "5c24cc51790d4297879bc49f2f4c2761": {
      "model_module": "@jupyter-widgets/controls",
      "model_module_version": "1.5.0",
      "model_name": "HTMLModel",
      "state": {
       "_dom_classes": [],
       "_model_module": "@jupyter-widgets/controls",
       "_model_module_version": "1.5.0",
       "_model_name": "HTMLModel",
       "_view_count": null,
       "_view_module": "@jupyter-widgets/controls",
       "_view_module_version": "1.5.0",
       "_view_name": "HTMLView",
       "description": "",
       "description_tooltip": null,
       "layout": "IPY_MODEL_bb969e00f31d4d48a79b18c49fedd2cb",
       "placeholder": "​",
       "style": "IPY_MODEL_534376ced1ce402d9a4332df81d670eb",
       "value": " 2/2 [00:00&lt;00:00, 19.43it/s]"
      }
     },
     "5ce70e5a2de940749a495fcb7e24dc61": {
      "model_module": "@jupyter-widgets/controls",
      "model_module_version": "1.5.0",
      "model_name": "DescriptionStyleModel",
      "state": {
       "_model_module": "@jupyter-widgets/controls",
       "_model_module_version": "1.5.0",
       "_model_name": "DescriptionStyleModel",
       "_view_count": null,
       "_view_module": "@jupyter-widgets/base",
       "_view_module_version": "1.2.0",
       "_view_name": "StyleView",
       "description_width": ""
      }
     },
     "601153d4a3dd4a61ad8280654a8763a7": {
      "model_module": "@jupyter-widgets/base",
      "model_module_version": "1.2.0",
      "model_name": "LayoutModel",
      "state": {
       "_model_module": "@jupyter-widgets/base",
       "_model_module_version": "1.2.0",
       "_model_name": "LayoutModel",
       "_view_count": null,
       "_view_module": "@jupyter-widgets/base",
       "_view_module_version": "1.2.0",
       "_view_name": "LayoutView",
       "align_content": null,
       "align_items": null,
       "align_self": null,
       "border": null,
       "bottom": null,
       "display": null,
       "flex": null,
       "flex_flow": null,
       "grid_area": null,
       "grid_auto_columns": null,
       "grid_auto_flow": null,
       "grid_auto_rows": null,
       "grid_column": null,
       "grid_gap": null,
       "grid_row": null,
       "grid_template_areas": null,
       "grid_template_columns": null,
       "grid_template_rows": null,
       "height": null,
       "justify_content": null,
       "justify_items": null,
       "left": null,
       "margin": null,
       "max_height": null,
       "max_width": null,
       "min_height": null,
       "min_width": null,
       "object_fit": null,
       "object_position": null,
       "order": null,
       "overflow": null,
       "overflow_x": null,
       "overflow_y": null,
       "padding": null,
       "right": null,
       "top": null,
       "visibility": null,
       "width": null
      }
     },
     "6089af8c31e14f1a80036bda30734d6a": {
      "model_module": "@jupyter-widgets/controls",
      "model_module_version": "1.5.0",
      "model_name": "HBoxModel",
      "state": {
       "_dom_classes": [],
       "_model_module": "@jupyter-widgets/controls",
       "_model_module_version": "1.5.0",
       "_model_name": "HBoxModel",
       "_view_count": null,
       "_view_module": "@jupyter-widgets/controls",
       "_view_module_version": "1.5.0",
       "_view_name": "HBoxView",
       "box_style": "",
       "children": [
        "IPY_MODEL_1a31028370cf441f85b3103e40a40e2b",
        "IPY_MODEL_a913413437a543b59a16af2174900cad"
       ],
       "layout": "IPY_MODEL_250abbc31777419cbb87c1b936a62e9c"
      }
     },
     "64c13dadbdba4148b64df36d09755415": {
      "model_module": "@jupyter-widgets/base",
      "model_module_version": "1.2.0",
      "model_name": "LayoutModel",
      "state": {
       "_model_module": "@jupyter-widgets/base",
       "_model_module_version": "1.2.0",
       "_model_name": "LayoutModel",
       "_view_count": null,
       "_view_module": "@jupyter-widgets/base",
       "_view_module_version": "1.2.0",
       "_view_name": "LayoutView",
       "align_content": null,
       "align_items": null,
       "align_self": null,
       "border": null,
       "bottom": null,
       "display": null,
       "flex": null,
       "flex_flow": null,
       "grid_area": null,
       "grid_auto_columns": null,
       "grid_auto_flow": null,
       "grid_auto_rows": null,
       "grid_column": null,
       "grid_gap": null,
       "grid_row": null,
       "grid_template_areas": null,
       "grid_template_columns": null,
       "grid_template_rows": null,
       "height": null,
       "justify_content": null,
       "justify_items": null,
       "left": null,
       "margin": null,
       "max_height": null,
       "max_width": null,
       "min_height": null,
       "min_width": null,
       "object_fit": null,
       "object_position": null,
       "order": null,
       "overflow": null,
       "overflow_x": null,
       "overflow_y": null,
       "padding": null,
       "right": null,
       "top": null,
       "visibility": null,
       "width": null
      }
     },
     "66c730f1d92f403093bd8d249e67f5c9": {
      "model_module": "@jupyter-widgets/base",
      "model_module_version": "1.2.0",
      "model_name": "LayoutModel",
      "state": {
       "_model_module": "@jupyter-widgets/base",
       "_model_module_version": "1.2.0",
       "_model_name": "LayoutModel",
       "_view_count": null,
       "_view_module": "@jupyter-widgets/base",
       "_view_module_version": "1.2.0",
       "_view_name": "LayoutView",
       "align_content": null,
       "align_items": null,
       "align_self": null,
       "border": null,
       "bottom": null,
       "display": null,
       "flex": null,
       "flex_flow": null,
       "grid_area": null,
       "grid_auto_columns": null,
       "grid_auto_flow": null,
       "grid_auto_rows": null,
       "grid_column": null,
       "grid_gap": null,
       "grid_row": null,
       "grid_template_areas": null,
       "grid_template_columns": null,
       "grid_template_rows": null,
       "height": null,
       "justify_content": null,
       "justify_items": null,
       "left": null,
       "margin": null,
       "max_height": null,
       "max_width": null,
       "min_height": null,
       "min_width": null,
       "object_fit": null,
       "object_position": null,
       "order": null,
       "overflow": null,
       "overflow_x": null,
       "overflow_y": null,
       "padding": null,
       "right": null,
       "top": null,
       "visibility": null,
       "width": null
      }
     },
     "67a7dbbf998e4a4b84413b68752c9642": {
      "model_module": "@jupyter-widgets/controls",
      "model_module_version": "1.5.0",
      "model_name": "FloatProgressModel",
      "state": {
       "_dom_classes": [],
       "_model_module": "@jupyter-widgets/controls",
       "_model_module_version": "1.5.0",
       "_model_name": "FloatProgressModel",
       "_view_count": null,
       "_view_module": "@jupyter-widgets/controls",
       "_view_module_version": "1.5.0",
       "_view_name": "ProgressView",
       "bar_style": "success",
       "description": "Downloading added_tokens.json: 100%",
       "description_tooltip": null,
       "layout": "IPY_MODEL_2a9a1270500541ca9fa812edb736343e",
       "max": 2501.0,
       "min": 0.0,
       "orientation": "horizontal",
       "style": "IPY_MODEL_13c4ee0f9f1742a5b493c643cc5bbc3f",
       "value": 2501.0
      }
     },
     "6cbd8dbf824840919f03ca7cb52713d1": {
      "model_module": "@jupyter-widgets/controls",
      "model_module_version": "1.5.0",
      "model_name": "DescriptionStyleModel",
      "state": {
       "_model_module": "@jupyter-widgets/controls",
       "_model_module_version": "1.5.0",
       "_model_name": "DescriptionStyleModel",
       "_view_count": null,
       "_view_module": "@jupyter-widgets/base",
       "_view_module_version": "1.2.0",
       "_view_name": "StyleView",
       "description_width": ""
      }
     },
     "6fd6856e54f04552aced924599c1040f": {
      "model_module": "@jupyter-widgets/base",
      "model_module_version": "1.2.0",
      "model_name": "LayoutModel",
      "state": {
       "_model_module": "@jupyter-widgets/base",
       "_model_module_version": "1.2.0",
       "_model_name": "LayoutModel",
       "_view_count": null,
       "_view_module": "@jupyter-widgets/base",
       "_view_module_version": "1.2.0",
       "_view_name": "LayoutView",
       "align_content": null,
       "align_items": null,
       "align_self": null,
       "border": null,
       "bottom": null,
       "display": null,
       "flex": null,
       "flex_flow": null,
       "grid_area": null,
       "grid_auto_columns": null,
       "grid_auto_flow": null,
       "grid_auto_rows": null,
       "grid_column": null,
       "grid_gap": null,
       "grid_row": null,
       "grid_template_areas": null,
       "grid_template_columns": null,
       "grid_template_rows": null,
       "height": null,
       "justify_content": null,
       "justify_items": null,
       "left": null,
       "margin": null,
       "max_height": null,
       "max_width": null,
       "min_height": null,
       "min_width": null,
       "object_fit": null,
       "object_position": null,
       "order": null,
       "overflow": null,
       "overflow_x": null,
       "overflow_y": null,
       "padding": null,
       "right": null,
       "top": null,
       "visibility": null,
       "width": null
      }
     },
     "6fdac00d364b428b882771708ef8b1d7": {
      "model_module": "@jupyter-widgets/base",
      "model_module_version": "1.2.0",
      "model_name": "LayoutModel",
      "state": {
       "_model_module": "@jupyter-widgets/base",
       "_model_module_version": "1.2.0",
       "_model_name": "LayoutModel",
       "_view_count": null,
       "_view_module": "@jupyter-widgets/base",
       "_view_module_version": "1.2.0",
       "_view_name": "LayoutView",
       "align_content": null,
       "align_items": null,
       "align_self": null,
       "border": null,
       "bottom": null,
       "display": null,
       "flex": null,
       "flex_flow": null,
       "grid_area": null,
       "grid_auto_columns": null,
       "grid_auto_flow": null,
       "grid_auto_rows": null,
       "grid_column": null,
       "grid_gap": null,
       "grid_row": null,
       "grid_template_areas": null,
       "grid_template_columns": null,
       "grid_template_rows": null,
       "height": null,
       "justify_content": null,
       "justify_items": null,
       "left": null,
       "margin": null,
       "max_height": null,
       "max_width": null,
       "min_height": null,
       "min_width": null,
       "object_fit": null,
       "object_position": null,
       "order": null,
       "overflow": null,
       "overflow_x": null,
       "overflow_y": null,
       "padding": null,
       "right": null,
       "top": null,
       "visibility": null,
       "width": null
      }
     },
     "71c8c9acbfdb4b2bbab9a97babfc6ec2": {
      "model_module": "@jupyter-widgets/controls",
      "model_module_version": "1.5.0",
      "model_name": "HTMLModel",
      "state": {
       "_dom_classes": [],
       "_model_module": "@jupyter-widgets/controls",
       "_model_module_version": "1.5.0",
       "_model_name": "HTMLModel",
       "_view_count": null,
       "_view_module": "@jupyter-widgets/controls",
       "_view_module_version": "1.5.0",
       "_view_name": "HTMLView",
       "description": "",
       "description_tooltip": null,
       "layout": "IPY_MODEL_780526af6e694c33b3405ae28e0c9230",
       "placeholder": "​",
       "style": "IPY_MODEL_41d9adb6c8d6423ead7cc0d734759f59",
       "value": " 2.50k/2.50k [00:00&lt;00:00, 9.74kB/s]"
      }
     },
     "7407bd367ff449d58c43e829da5c6929": {
      "model_module": "@jupyter-widgets/controls",
      "model_module_version": "1.5.0",
      "model_name": "HTMLModel",
      "state": {
       "_dom_classes": [],
       "_model_module": "@jupyter-widgets/controls",
       "_model_module_version": "1.5.0",
       "_model_name": "HTMLModel",
       "_view_count": null,
       "_view_module": "@jupyter-widgets/controls",
       "_view_module_version": "1.5.0",
       "_view_name": "HTMLView",
       "description": "",
       "description_tooltip": null,
       "layout": "IPY_MODEL_ea3fbad326034e48a98cd1da6d286f56",
       "placeholder": "​",
       "style": "IPY_MODEL_5ce70e5a2de940749a495fcb7e24dc61",
       "value": " 1.27M/1.27M [00:00&lt;00:00, 1.87MB/s]"
      }
     },
     "751b4662d27b45d99d9365940dcabf08": {
      "model_module": "@jupyter-widgets/controls",
      "model_module_version": "1.5.0",
      "model_name": "HBoxModel",
      "state": {
       "_dom_classes": [],
       "_model_module": "@jupyter-widgets/controls",
       "_model_module_version": "1.5.0",
       "_model_name": "HBoxModel",
       "_view_count": null,
       "_view_module": "@jupyter-widgets/controls",
       "_view_module_version": "1.5.0",
       "_view_name": "HBoxView",
       "box_style": "",
       "children": [
        "IPY_MODEL_c3fb434fc8964156ba13f611b56bd9af",
        "IPY_MODEL_e17426226fcc48ea875b470db32cac45"
       ],
       "layout": "IPY_MODEL_5a4ebd82a47b42ba95ce8f791038f8db"
      }
     },
     "759e885f63444c2aa21dc752f17e0621": {
      "model_module": "@jupyter-widgets/base",
      "model_module_version": "1.2.0",
      "model_name": "LayoutModel",
      "state": {
       "_model_module": "@jupyter-widgets/base",
       "_model_module_version": "1.2.0",
       "_model_name": "LayoutModel",
       "_view_count": null,
       "_view_module": "@jupyter-widgets/base",
       "_view_module_version": "1.2.0",
       "_view_name": "LayoutView",
       "align_content": null,
       "align_items": null,
       "align_self": null,
       "border": null,
       "bottom": null,
       "display": null,
       "flex": null,
       "flex_flow": null,
       "grid_area": null,
       "grid_auto_columns": null,
       "grid_auto_flow": null,
       "grid_auto_rows": null,
       "grid_column": null,
       "grid_gap": null,
       "grid_row": null,
       "grid_template_areas": null,
       "grid_template_columns": null,
       "grid_template_rows": null,
       "height": null,
       "justify_content": null,
       "justify_items": null,
       "left": null,
       "margin": null,
       "max_height": null,
       "max_width": null,
       "min_height": null,
       "min_width": null,
       "object_fit": null,
       "object_position": null,
       "order": null,
       "overflow": null,
       "overflow_x": null,
       "overflow_y": null,
       "padding": null,
       "right": null,
       "top": null,
       "visibility": null,
       "width": null
      }
     },
     "780526af6e694c33b3405ae28e0c9230": {
      "model_module": "@jupyter-widgets/base",
      "model_module_version": "1.2.0",
      "model_name": "LayoutModel",
      "state": {
       "_model_module": "@jupyter-widgets/base",
       "_model_module_version": "1.2.0",
       "_model_name": "LayoutModel",
       "_view_count": null,
       "_view_module": "@jupyter-widgets/base",
       "_view_module_version": "1.2.0",
       "_view_name": "LayoutView",
       "align_content": null,
       "align_items": null,
       "align_self": null,
       "border": null,
       "bottom": null,
       "display": null,
       "flex": null,
       "flex_flow": null,
       "grid_area": null,
       "grid_auto_columns": null,
       "grid_auto_flow": null,
       "grid_auto_rows": null,
       "grid_column": null,
       "grid_gap": null,
       "grid_row": null,
       "grid_template_areas": null,
       "grid_template_columns": null,
       "grid_template_rows": null,
       "height": null,
       "justify_content": null,
       "justify_items": null,
       "left": null,
       "margin": null,
       "max_height": null,
       "max_width": null,
       "min_height": null,
       "min_width": null,
       "object_fit": null,
       "object_position": null,
       "order": null,
       "overflow": null,
       "overflow_x": null,
       "overflow_y": null,
       "padding": null,
       "right": null,
       "top": null,
       "visibility": null,
       "width": null
      }
     },
     "78538b65ddff4c1fbbd9cab99c699c7b": {
      "model_module": "@jupyter-widgets/controls",
      "model_module_version": "1.5.0",
      "model_name": "HBoxModel",
      "state": {
       "_dom_classes": [],
       "_model_module": "@jupyter-widgets/controls",
       "_model_module_version": "1.5.0",
       "_model_name": "HBoxModel",
       "_view_count": null,
       "_view_module": "@jupyter-widgets/controls",
       "_view_module_version": "1.5.0",
       "_view_name": "HBoxView",
       "box_style": "",
       "children": [
        "IPY_MODEL_c29c4a199a484a96bc3c262006165017",
        "IPY_MODEL_ecb80af94f374a69bc8fc41ec356a5fd"
       ],
       "layout": "IPY_MODEL_8839dce1bfb04d4ea54a4a93aaf10028"
      }
     },
     "7a10a23fb1d7490589eceb6ad473b890": {
      "model_module": "@jupyter-widgets/controls",
      "model_module_version": "1.5.0",
      "model_name": "ProgressStyleModel",
      "state": {
       "_model_module": "@jupyter-widgets/controls",
       "_model_module_version": "1.5.0",
       "_model_name": "ProgressStyleModel",
       "_view_count": null,
       "_view_module": "@jupyter-widgets/base",
       "_view_module_version": "1.2.0",
       "_view_name": "StyleView",
       "bar_color": null,
       "description_width": "initial"
      }
     },
     "7c38c9825da6435a807b289da945dd51": {
      "model_module": "@jupyter-widgets/base",
      "model_module_version": "1.2.0",
      "model_name": "LayoutModel",
      "state": {
       "_model_module": "@jupyter-widgets/base",
       "_model_module_version": "1.2.0",
       "_model_name": "LayoutModel",
       "_view_count": null,
       "_view_module": "@jupyter-widgets/base",
       "_view_module_version": "1.2.0",
       "_view_name": "LayoutView",
       "align_content": null,
       "align_items": null,
       "align_self": null,
       "border": null,
       "bottom": null,
       "display": null,
       "flex": null,
       "flex_flow": null,
       "grid_area": null,
       "grid_auto_columns": null,
       "grid_auto_flow": null,
       "grid_auto_rows": null,
       "grid_column": null,
       "grid_gap": null,
       "grid_row": null,
       "grid_template_areas": null,
       "grid_template_columns": null,
       "grid_template_rows": null,
       "height": null,
       "justify_content": null,
       "justify_items": null,
       "left": null,
       "margin": null,
       "max_height": null,
       "max_width": null,
       "min_height": null,
       "min_width": null,
       "object_fit": null,
       "object_position": null,
       "order": null,
       "overflow": null,
       "overflow_x": null,
       "overflow_y": null,
       "padding": null,
       "right": null,
       "top": null,
       "visibility": null,
       "width": null
      }
     },
     "7f455354552c4412a2f43cef2eea1cdc": {
      "model_module": "@jupyter-widgets/controls",
      "model_module_version": "1.5.0",
      "model_name": "FloatProgressModel",
      "state": {
       "_dom_classes": [],
       "_model_module": "@jupyter-widgets/controls",
       "_model_module_version": "1.5.0",
       "_model_name": "FloatProgressModel",
       "_view_count": null,
       "_view_module": "@jupyter-widgets/controls",
       "_view_module_version": "1.5.0",
       "_view_name": "ProgressView",
       "bar_style": "success",
       "description": "100%",
       "description_tooltip": null,
       "layout": "IPY_MODEL_a08ed91de85b43b1993b46a554dd88a3",
       "max": 2.0,
       "min": 0.0,
       "orientation": "horizontal",
       "style": "IPY_MODEL_0b67fd2535384367a672c5425a85ae21",
       "value": 2.0
      }
     },
     "830a8a2a1fe84e3c918ec050819fa040": {
      "model_module": "@jupyter-widgets/controls",
      "model_module_version": "1.5.0",
      "model_name": "DescriptionStyleModel",
      "state": {
       "_model_module": "@jupyter-widgets/controls",
       "_model_module_version": "1.5.0",
       "_model_name": "DescriptionStyleModel",
       "_view_count": null,
       "_view_module": "@jupyter-widgets/base",
       "_view_module_version": "1.2.0",
       "_view_name": "StyleView",
       "description_width": ""
      }
     },
     "87a01ce4f3e943ab9c8622f30db73563": {
      "model_module": "@jupyter-widgets/controls",
      "model_module_version": "1.5.0",
      "model_name": "HTMLModel",
      "state": {
       "_dom_classes": [],
       "_model_module": "@jupyter-widgets/controls",
       "_model_module_version": "1.5.0",
       "_model_name": "HTMLModel",
       "_view_count": null,
       "_view_module": "@jupyter-widgets/controls",
       "_view_module_version": "1.5.0",
       "_view_name": "HTMLView",
       "description": "",
       "description_tooltip": null,
       "layout": "IPY_MODEL_b2b315155d22414e8f190694ab25f893",
       "placeholder": "​",
       "style": "IPY_MODEL_a0db89a1b7f34835942832b764dcd11d",
       "value": " 30/30 [01:09&lt;00:00,  2.33s/ba]"
      }
     },
     "8839dce1bfb04d4ea54a4a93aaf10028": {
      "model_module": "@jupyter-widgets/base",
      "model_module_version": "1.2.0",
      "model_name": "LayoutModel",
      "state": {
       "_model_module": "@jupyter-widgets/base",
       "_model_module_version": "1.2.0",
       "_model_name": "LayoutModel",
       "_view_count": null,
       "_view_module": "@jupyter-widgets/base",
       "_view_module_version": "1.2.0",
       "_view_name": "LayoutView",
       "align_content": null,
       "align_items": null,
       "align_self": null,
       "border": null,
       "bottom": null,
       "display": null,
       "flex": null,
       "flex_flow": null,
       "grid_area": null,
       "grid_auto_columns": null,
       "grid_auto_flow": null,
       "grid_auto_rows": null,
       "grid_column": null,
       "grid_gap": null,
       "grid_row": null,
       "grid_template_areas": null,
       "grid_template_columns": null,
       "grid_template_rows": null,
       "height": null,
       "justify_content": null,
       "justify_items": null,
       "left": null,
       "margin": null,
       "max_height": null,
       "max_width": null,
       "min_height": null,
       "min_width": null,
       "object_fit": null,
       "object_position": null,
       "order": null,
       "overflow": null,
       "overflow_x": null,
       "overflow_y": null,
       "padding": null,
       "right": null,
       "top": null,
       "visibility": null,
       "width": null
      }
     },
     "898d48a918db4fff98155fe24023002d": {
      "model_module": "@jupyter-widgets/base",
      "model_module_version": "1.2.0",
      "model_name": "LayoutModel",
      "state": {
       "_model_module": "@jupyter-widgets/base",
       "_model_module_version": "1.2.0",
       "_model_name": "LayoutModel",
       "_view_count": null,
       "_view_module": "@jupyter-widgets/base",
       "_view_module_version": "1.2.0",
       "_view_name": "LayoutView",
       "align_content": null,
       "align_items": null,
       "align_self": null,
       "border": null,
       "bottom": null,
       "display": null,
       "flex": null,
       "flex_flow": null,
       "grid_area": null,
       "grid_auto_columns": null,
       "grid_auto_flow": null,
       "grid_auto_rows": null,
       "grid_column": null,
       "grid_gap": null,
       "grid_row": null,
       "grid_template_areas": null,
       "grid_template_columns": null,
       "grid_template_rows": null,
       "height": null,
       "justify_content": null,
       "justify_items": null,
       "left": null,
       "margin": null,
       "max_height": null,
       "max_width": null,
       "min_height": null,
       "min_width": null,
       "object_fit": null,
       "object_position": null,
       "order": null,
       "overflow": null,
       "overflow_x": null,
       "overflow_y": null,
       "padding": null,
       "right": null,
       "top": null,
       "visibility": null,
       "width": null
      }
     },
     "8d2a001528034e5cb8cd5eaf2f936996": {
      "model_module": "@jupyter-widgets/controls",
      "model_module_version": "1.5.0",
      "model_name": "DescriptionStyleModel",
      "state": {
       "_model_module": "@jupyter-widgets/controls",
       "_model_module_version": "1.5.0",
       "_model_name": "DescriptionStyleModel",
       "_view_count": null,
       "_view_module": "@jupyter-widgets/base",
       "_view_module_version": "1.2.0",
       "_view_name": "StyleView",
       "description_width": ""
      }
     },
     "8ea253c95d1a46808b4122c0939ab5f3": {
      "model_module": "@jupyter-widgets/base",
      "model_module_version": "1.2.0",
      "model_name": "LayoutModel",
      "state": {
       "_model_module": "@jupyter-widgets/base",
       "_model_module_version": "1.2.0",
       "_model_name": "LayoutModel",
       "_view_count": null,
       "_view_module": "@jupyter-widgets/base",
       "_view_module_version": "1.2.0",
       "_view_name": "LayoutView",
       "align_content": null,
       "align_items": null,
       "align_self": null,
       "border": null,
       "bottom": null,
       "display": null,
       "flex": null,
       "flex_flow": null,
       "grid_area": null,
       "grid_auto_columns": null,
       "grid_auto_flow": null,
       "grid_auto_rows": null,
       "grid_column": null,
       "grid_gap": null,
       "grid_row": null,
       "grid_template_areas": null,
       "grid_template_columns": null,
       "grid_template_rows": null,
       "height": null,
       "justify_content": null,
       "justify_items": null,
       "left": null,
       "margin": null,
       "max_height": null,
       "max_width": null,
       "min_height": null,
       "min_width": null,
       "object_fit": null,
       "object_position": null,
       "order": null,
       "overflow": null,
       "overflow_x": null,
       "overflow_y": null,
       "padding": null,
       "right": null,
       "top": null,
       "visibility": null,
       "width": null
      }
     },
     "8eb65e5a08464f17a70747eeb0e73f06": {
      "model_module": "@jupyter-widgets/controls",
      "model_module_version": "1.5.0",
      "model_name": "HBoxModel",
      "state": {
       "_dom_classes": [],
       "_model_module": "@jupyter-widgets/controls",
       "_model_module_version": "1.5.0",
       "_model_name": "HBoxModel",
       "_view_count": null,
       "_view_module": "@jupyter-widgets/controls",
       "_view_module_version": "1.5.0",
       "_view_name": "HBoxView",
       "box_style": "",
       "children": [
        "IPY_MODEL_924be1d4b3594d09b348da5a91bebd14",
        "IPY_MODEL_a827a3e2655a402c8ed6e37b34107425"
       ],
       "layout": "IPY_MODEL_a54025b4a32c4fd4984acce4599910ae"
      }
     },
     "9211303f352c4f19a97b31d7f4a12892": {
      "model_module": "@jupyter-widgets/base",
      "model_module_version": "1.2.0",
      "model_name": "LayoutModel",
      "state": {
       "_model_module": "@jupyter-widgets/base",
       "_model_module_version": "1.2.0",
       "_model_name": "LayoutModel",
       "_view_count": null,
       "_view_module": "@jupyter-widgets/base",
       "_view_module_version": "1.2.0",
       "_view_name": "LayoutView",
       "align_content": null,
       "align_items": null,
       "align_self": null,
       "border": null,
       "bottom": null,
       "display": null,
       "flex": null,
       "flex_flow": null,
       "grid_area": null,
       "grid_auto_columns": null,
       "grid_auto_flow": null,
       "grid_auto_rows": null,
       "grid_column": null,
       "grid_gap": null,
       "grid_row": null,
       "grid_template_areas": null,
       "grid_template_columns": null,
       "grid_template_rows": null,
       "height": null,
       "justify_content": null,
       "justify_items": null,
       "left": null,
       "margin": null,
       "max_height": null,
       "max_width": null,
       "min_height": null,
       "min_width": null,
       "object_fit": null,
       "object_position": null,
       "order": null,
       "overflow": null,
       "overflow_x": null,
       "overflow_y": null,
       "padding": null,
       "right": null,
       "top": null,
       "visibility": null,
       "width": null
      }
     },
     "924be1d4b3594d09b348da5a91bebd14": {
      "model_module": "@jupyter-widgets/controls",
      "model_module_version": "1.5.0",
      "model_name": "FloatProgressModel",
      "state": {
       "_dom_classes": [],
       "_model_module": "@jupyter-widgets/controls",
       "_model_module_version": "1.5.0",
       "_model_name": "FloatProgressModel",
       "_view_count": null,
       "_view_module": "@jupyter-widgets/controls",
       "_view_module_version": "1.5.0",
       "_view_name": "ProgressView",
       "bar_style": "success",
       "description": "Downloading (…)cial_tokens_map.json: 100%",
       "description_tooltip": null,
       "layout": "IPY_MODEL_6fd6856e54f04552aced924599c1040f",
       "max": 574.0,
       "min": 0.0,
       "orientation": "horizontal",
       "style": "IPY_MODEL_1e4ee66aefab499c99cce76dc0d7df2c",
       "value": 574.0
      }
     },
     "9600d092c8b340149d08d28b2eb74408": {
      "model_module": "@jupyter-widgets/controls",
      "model_module_version": "1.5.0",
      "model_name": "ProgressStyleModel",
      "state": {
       "_model_module": "@jupyter-widgets/controls",
       "_model_module_version": "1.5.0",
       "_model_name": "ProgressStyleModel",
       "_view_count": null,
       "_view_module": "@jupyter-widgets/base",
       "_view_module_version": "1.2.0",
       "_view_name": "StyleView",
       "bar_color": null,
       "description_width": "initial"
      }
     },
     "99acc688522b4b158b393e001e19f04c": {
      "model_module": "@jupyter-widgets/controls",
      "model_module_version": "1.5.0",
      "model_name": "HBoxModel",
      "state": {
       "_dom_classes": [],
       "_model_module": "@jupyter-widgets/controls",
       "_model_module_version": "1.5.0",
       "_model_name": "HBoxModel",
       "_view_count": null,
       "_view_module": "@jupyter-widgets/controls",
       "_view_module_version": "1.5.0",
       "_view_name": "HBoxView",
       "box_style": "",
       "children": [
        "IPY_MODEL_f198c131b3f64b7a8572fb8e4546c55d",
        "IPY_MODEL_202aebcc3ccf4b9a8d14eaeffc98acb3"
       ],
       "layout": "IPY_MODEL_436a9e8601f44ffcb22a812a55ef42eb"
      }
     },
     "9de53b8e91c64576ba75eb627637a55e": {
      "model_module": "@jupyter-widgets/controls",
      "model_module_version": "1.5.0",
      "model_name": "ProgressStyleModel",
      "state": {
       "_model_module": "@jupyter-widgets/controls",
       "_model_module_version": "1.5.0",
       "_model_name": "ProgressStyleModel",
       "_view_count": null,
       "_view_module": "@jupyter-widgets/base",
       "_view_module_version": "1.2.0",
       "_view_name": "StyleView",
       "bar_color": null,
       "description_width": "initial"
      }
     },
     "9efc5eb5ef854935a5ae2aadb83a63e6": {
      "model_module": "@jupyter-widgets/base",
      "model_module_version": "1.2.0",
      "model_name": "LayoutModel",
      "state": {
       "_model_module": "@jupyter-widgets/base",
       "_model_module_version": "1.2.0",
       "_model_name": "LayoutModel",
       "_view_count": null,
       "_view_module": "@jupyter-widgets/base",
       "_view_module_version": "1.2.0",
       "_view_name": "LayoutView",
       "align_content": null,
       "align_items": null,
       "align_self": null,
       "border": null,
       "bottom": null,
       "display": null,
       "flex": null,
       "flex_flow": null,
       "grid_area": null,
       "grid_auto_columns": null,
       "grid_auto_flow": null,
       "grid_auto_rows": null,
       "grid_column": null,
       "grid_gap": null,
       "grid_row": null,
       "grid_template_areas": null,
       "grid_template_columns": null,
       "grid_template_rows": null,
       "height": null,
       "justify_content": null,
       "justify_items": null,
       "left": null,
       "margin": null,
       "max_height": null,
       "max_width": null,
       "min_height": null,
       "min_width": null,
       "object_fit": null,
       "object_position": null,
       "order": null,
       "overflow": null,
       "overflow_x": null,
       "overflow_y": null,
       "padding": null,
       "right": null,
       "top": null,
       "visibility": null,
       "width": null
      }
     },
     "a08ed91de85b43b1993b46a554dd88a3": {
      "model_module": "@jupyter-widgets/base",
      "model_module_version": "1.2.0",
      "model_name": "LayoutModel",
      "state": {
       "_model_module": "@jupyter-widgets/base",
       "_model_module_version": "1.2.0",
       "_model_name": "LayoutModel",
       "_view_count": null,
       "_view_module": "@jupyter-widgets/base",
       "_view_module_version": "1.2.0",
       "_view_name": "LayoutView",
       "align_content": null,
       "align_items": null,
       "align_self": null,
       "border": null,
       "bottom": null,
       "display": null,
       "flex": null,
       "flex_flow": null,
       "grid_area": null,
       "grid_auto_columns": null,
       "grid_auto_flow": null,
       "grid_auto_rows": null,
       "grid_column": null,
       "grid_gap": null,
       "grid_row": null,
       "grid_template_areas": null,
       "grid_template_columns": null,
       "grid_template_rows": null,
       "height": null,
       "justify_content": null,
       "justify_items": null,
       "left": null,
       "margin": null,
       "max_height": null,
       "max_width": null,
       "min_height": null,
       "min_width": null,
       "object_fit": null,
       "object_position": null,
       "order": null,
       "overflow": null,
       "overflow_x": null,
       "overflow_y": null,
       "padding": null,
       "right": null,
       "top": null,
       "visibility": null,
       "width": null
      }
     },
     "a0db89a1b7f34835942832b764dcd11d": {
      "model_module": "@jupyter-widgets/controls",
      "model_module_version": "1.5.0",
      "model_name": "DescriptionStyleModel",
      "state": {
       "_model_module": "@jupyter-widgets/controls",
       "_model_module_version": "1.5.0",
       "_model_name": "DescriptionStyleModel",
       "_view_count": null,
       "_view_module": "@jupyter-widgets/base",
       "_view_module_version": "1.2.0",
       "_view_name": "StyleView",
       "description_width": ""
      }
     },
     "a54025b4a32c4fd4984acce4599910ae": {
      "model_module": "@jupyter-widgets/base",
      "model_module_version": "1.2.0",
      "model_name": "LayoutModel",
      "state": {
       "_model_module": "@jupyter-widgets/base",
       "_model_module_version": "1.2.0",
       "_model_name": "LayoutModel",
       "_view_count": null,
       "_view_module": "@jupyter-widgets/base",
       "_view_module_version": "1.2.0",
       "_view_name": "LayoutView",
       "align_content": null,
       "align_items": null,
       "align_self": null,
       "border": null,
       "bottom": null,
       "display": null,
       "flex": null,
       "flex_flow": null,
       "grid_area": null,
       "grid_auto_columns": null,
       "grid_auto_flow": null,
       "grid_auto_rows": null,
       "grid_column": null,
       "grid_gap": null,
       "grid_row": null,
       "grid_template_areas": null,
       "grid_template_columns": null,
       "grid_template_rows": null,
       "height": null,
       "justify_content": null,
       "justify_items": null,
       "left": null,
       "margin": null,
       "max_height": null,
       "max_width": null,
       "min_height": null,
       "min_width": null,
       "object_fit": null,
       "object_position": null,
       "order": null,
       "overflow": null,
       "overflow_x": null,
       "overflow_y": null,
       "padding": null,
       "right": null,
       "top": null,
       "visibility": null,
       "width": null
      }
     },
     "a827a3e2655a402c8ed6e37b34107425": {
      "model_module": "@jupyter-widgets/controls",
      "model_module_version": "1.5.0",
      "model_name": "HTMLModel",
      "state": {
       "_dom_classes": [],
       "_model_module": "@jupyter-widgets/controls",
       "_model_module_version": "1.5.0",
       "_model_name": "HTMLModel",
       "_view_count": null,
       "_view_module": "@jupyter-widgets/controls",
       "_view_module_version": "1.5.0",
       "_view_name": "HTMLView",
       "description": "",
       "description_tooltip": null,
       "layout": "IPY_MODEL_c910c17e8a894c0b84dea837141cc1a8",
       "placeholder": "​",
       "style": "IPY_MODEL_31472dc5a905489a8014b242c039c6f2",
       "value": " 574/574 [00:00&lt;00:00, 1.76kB/s]"
      }
     },
     "a83c9524fa51448b86d79c9442dbb6f2": {
      "model_module": "@jupyter-widgets/controls",
      "model_module_version": "1.5.0",
      "model_name": "HBoxModel",
      "state": {
       "_dom_classes": [],
       "_model_module": "@jupyter-widgets/controls",
       "_model_module_version": "1.5.0",
       "_model_name": "HBoxModel",
       "_view_count": null,
       "_view_module": "@jupyter-widgets/controls",
       "_view_module_version": "1.5.0",
       "_view_name": "HBoxView",
       "box_style": "",
       "children": [
        "IPY_MODEL_7f455354552c4412a2f43cef2eea1cdc",
        "IPY_MODEL_5c24cc51790d4297879bc49f2f4c2761"
       ],
       "layout": "IPY_MODEL_5b9f2a97b91743c6921db9d69ca65656"
      }
     },
     "a913413437a543b59a16af2174900cad": {
      "model_module": "@jupyter-widgets/controls",
      "model_module_version": "1.5.0",
      "model_name": "HTMLModel",
      "state": {
       "_dom_classes": [],
       "_model_module": "@jupyter-widgets/controls",
       "_model_module_version": "1.5.0",
       "_model_name": "HTMLModel",
       "_view_count": null,
       "_view_module": "@jupyter-widgets/controls",
       "_view_module_version": "1.5.0",
       "_view_name": "HTMLView",
       "description": "",
       "description_tooltip": null,
       "layout": "IPY_MODEL_1e7669fc509c4e409153a4070c5685a9",
       "placeholder": "​",
       "style": "IPY_MODEL_8d2a001528034e5cb8cd5eaf2f936996",
       "value": " 2/2 [00:00&lt;00:00,  3.51it/s]"
      }
     },
     "affac106402b47069c4e5e55390f6880": {
      "model_module": "@jupyter-widgets/controls",
      "model_module_version": "1.5.0",
      "model_name": "DescriptionStyleModel",
      "state": {
       "_model_module": "@jupyter-widgets/controls",
       "_model_module_version": "1.5.0",
       "_model_name": "DescriptionStyleModel",
       "_view_count": null,
       "_view_module": "@jupyter-widgets/base",
       "_view_module_version": "1.2.0",
       "_view_name": "StyleView",
       "description_width": ""
      }
     },
     "b2b315155d22414e8f190694ab25f893": {
      "model_module": "@jupyter-widgets/base",
      "model_module_version": "1.2.0",
      "model_name": "LayoutModel",
      "state": {
       "_model_module": "@jupyter-widgets/base",
       "_model_module_version": "1.2.0",
       "_model_name": "LayoutModel",
       "_view_count": null,
       "_view_module": "@jupyter-widgets/base",
       "_view_module_version": "1.2.0",
       "_view_name": "LayoutView",
       "align_content": null,
       "align_items": null,
       "align_self": null,
       "border": null,
       "bottom": null,
       "display": null,
       "flex": null,
       "flex_flow": null,
       "grid_area": null,
       "grid_auto_columns": null,
       "grid_auto_flow": null,
       "grid_auto_rows": null,
       "grid_column": null,
       "grid_gap": null,
       "grid_row": null,
       "grid_template_areas": null,
       "grid_template_columns": null,
       "grid_template_rows": null,
       "height": null,
       "justify_content": null,
       "justify_items": null,
       "left": null,
       "margin": null,
       "max_height": null,
       "max_width": null,
       "min_height": null,
       "min_width": null,
       "object_fit": null,
       "object_position": null,
       "order": null,
       "overflow": null,
       "overflow_x": null,
       "overflow_y": null,
       "padding": null,
       "right": null,
       "top": null,
       "visibility": null,
       "width": null
      }
     },
     "b680ef138a844ea1a0291f7e8299321a": {
      "model_module": "@jupyter-widgets/controls",
      "model_module_version": "1.5.0",
      "model_name": "DescriptionStyleModel",
      "state": {
       "_model_module": "@jupyter-widgets/controls",
       "_model_module_version": "1.5.0",
       "_model_name": "DescriptionStyleModel",
       "_view_count": null,
       "_view_module": "@jupyter-widgets/base",
       "_view_module_version": "1.2.0",
       "_view_name": "StyleView",
       "description_width": ""
      }
     },
     "b81e9461e6da47c3a19fd876172faf93": {
      "model_module": "@jupyter-widgets/base",
      "model_module_version": "1.2.0",
      "model_name": "LayoutModel",
      "state": {
       "_model_module": "@jupyter-widgets/base",
       "_model_module_version": "1.2.0",
       "_model_name": "LayoutModel",
       "_view_count": null,
       "_view_module": "@jupyter-widgets/base",
       "_view_module_version": "1.2.0",
       "_view_name": "LayoutView",
       "align_content": null,
       "align_items": null,
       "align_self": null,
       "border": null,
       "bottom": null,
       "display": null,
       "flex": null,
       "flex_flow": null,
       "grid_area": null,
       "grid_auto_columns": null,
       "grid_auto_flow": null,
       "grid_auto_rows": null,
       "grid_column": null,
       "grid_gap": null,
       "grid_row": null,
       "grid_template_areas": null,
       "grid_template_columns": null,
       "grid_template_rows": null,
       "height": null,
       "justify_content": null,
       "justify_items": null,
       "left": null,
       "margin": null,
       "max_height": null,
       "max_width": null,
       "min_height": null,
       "min_width": null,
       "object_fit": null,
       "object_position": null,
       "order": null,
       "overflow": null,
       "overflow_x": null,
       "overflow_y": null,
       "padding": null,
       "right": null,
       "top": null,
       "visibility": null,
       "width": null
      }
     },
     "b95d69d7ad1d40adb66cc23f2bc8a181": {
      "model_module": "@jupyter-widgets/controls",
      "model_module_version": "1.5.0",
      "model_name": "HTMLModel",
      "state": {
       "_dom_classes": [],
       "_model_module": "@jupyter-widgets/controls",
       "_model_module_version": "1.5.0",
       "_model_name": "HTMLModel",
       "_view_count": null,
       "_view_module": "@jupyter-widgets/controls",
       "_view_module_version": "1.5.0",
       "_view_name": "HTMLView",
       "description": "",
       "description_tooltip": null,
       "layout": "IPY_MODEL_64c13dadbdba4148b64df36d09755415",
       "placeholder": "​",
       "style": "IPY_MODEL_5ac09454c04b4986a69547a803beb7b4",
       "value": " 1/1 [00:00&lt;00:00,  1.52ba/s]"
      }
     },
     "bb969e00f31d4d48a79b18c49fedd2cb": {
      "model_module": "@jupyter-widgets/base",
      "model_module_version": "1.2.0",
      "model_name": "LayoutModel",
      "state": {
       "_model_module": "@jupyter-widgets/base",
       "_model_module_version": "1.2.0",
       "_model_name": "LayoutModel",
       "_view_count": null,
       "_view_module": "@jupyter-widgets/base",
       "_view_module_version": "1.2.0",
       "_view_name": "LayoutView",
       "align_content": null,
       "align_items": null,
       "align_self": null,
       "border": null,
       "bottom": null,
       "display": null,
       "flex": null,
       "flex_flow": null,
       "grid_area": null,
       "grid_auto_columns": null,
       "grid_auto_flow": null,
       "grid_auto_rows": null,
       "grid_column": null,
       "grid_gap": null,
       "grid_row": null,
       "grid_template_areas": null,
       "grid_template_columns": null,
       "grid_template_rows": null,
       "height": null,
       "justify_content": null,
       "justify_items": null,
       "left": null,
       "margin": null,
       "max_height": null,
       "max_width": null,
       "min_height": null,
       "min_width": null,
       "object_fit": null,
       "object_position": null,
       "order": null,
       "overflow": null,
       "overflow_x": null,
       "overflow_y": null,
       "padding": null,
       "right": null,
       "top": null,
       "visibility": null,
       "width": null
      }
     },
     "bdcc2b5ce0024a858a7dcfad8a92f6c2": {
      "model_module": "@jupyter-widgets/controls",
      "model_module_version": "1.5.0",
      "model_name": "FloatProgressModel",
      "state": {
       "_dom_classes": [],
       "_model_module": "@jupyter-widgets/controls",
       "_model_module_version": "1.5.0",
       "_model_name": "FloatProgressModel",
       "_view_count": null,
       "_view_module": "@jupyter-widgets/controls",
       "_view_module_version": "1.5.0",
       "_view_name": "ProgressView",
       "bar_style": "success",
       "description": "Downloading config.json: 100%",
       "description_tooltip": null,
       "layout": "IPY_MODEL_8ea253c95d1a46808b4122c0939ab5f3",
       "max": 653.0,
       "min": 0.0,
       "orientation": "horizontal",
       "style": "IPY_MODEL_7a10a23fb1d7490589eceb6ad473b890",
       "value": 653.0
      }
     },
     "bf49882d613e4e25983e488497731f03": {
      "model_module": "@jupyter-widgets/controls",
      "model_module_version": "1.5.0",
      "model_name": "DescriptionStyleModel",
      "state": {
       "_model_module": "@jupyter-widgets/controls",
       "_model_module_version": "1.5.0",
       "_model_name": "DescriptionStyleModel",
       "_view_count": null,
       "_view_module": "@jupyter-widgets/base",
       "_view_module_version": "1.2.0",
       "_view_name": "StyleView",
       "description_width": ""
      }
     },
     "c09e85c85eb2442fa921c43290d18e67": {
      "model_module": "@jupyter-widgets/controls",
      "model_module_version": "1.5.0",
      "model_name": "ProgressStyleModel",
      "state": {
       "_model_module": "@jupyter-widgets/controls",
       "_model_module_version": "1.5.0",
       "_model_name": "ProgressStyleModel",
       "_view_count": null,
       "_view_module": "@jupyter-widgets/base",
       "_view_module_version": "1.2.0",
       "_view_name": "StyleView",
       "bar_color": null,
       "description_width": "initial"
      }
     },
     "c29c4a199a484a96bc3c262006165017": {
      "model_module": "@jupyter-widgets/controls",
      "model_module_version": "1.5.0",
      "model_name": "FloatProgressModel",
      "state": {
       "_dom_classes": [],
       "_model_module": "@jupyter-widgets/controls",
       "_model_module_version": "1.5.0",
       "_model_name": "FloatProgressModel",
       "_view_count": null,
       "_view_module": "@jupyter-widgets/controls",
       "_view_module_version": "1.5.0",
       "_view_name": "ProgressView",
       "bar_style": "success",
       "description": "Downloading tokenizer_config.json: 100%",
       "description_tooltip": null,
       "layout": "IPY_MODEL_0b341709c4d945fe8c80a3eefc3e97f5",
       "max": 20215.0,
       "min": 0.0,
       "orientation": "horizontal",
       "style": "IPY_MODEL_50fdd95066764033b299da5155134f42",
       "value": 20215.0
      }
     },
     "c3fb434fc8964156ba13f611b56bd9af": {
      "model_module": "@jupyter-widgets/controls",
      "model_module_version": "1.5.0",
      "model_name": "FloatProgressModel",
      "state": {
       "_dom_classes": [],
       "_model_module": "@jupyter-widgets/controls",
       "_model_module_version": "1.5.0",
       "_model_name": "FloatProgressModel",
       "_view_count": null,
       "_view_module": "@jupyter-widgets/controls",
       "_view_module_version": "1.5.0",
       "_view_name": "ProgressView",
       "bar_style": "success",
       "description": "Downloading vocab.json: 100%",
       "description_tooltip": null,
       "layout": "IPY_MODEL_f30a1b1e1dda45da8be470be4d954ece",
       "max": 1713123.0,
       "min": 0.0,
       "orientation": "horizontal",
       "style": "IPY_MODEL_9de53b8e91c64576ba75eb627637a55e",
       "value": 1713123.0
      }
     },
     "c6486da5874648e98ea98cc63c854d1c": {
      "model_module": "@jupyter-widgets/controls",
      "model_module_version": "1.5.0",
      "model_name": "HBoxModel",
      "state": {
       "_dom_classes": [],
       "_model_module": "@jupyter-widgets/controls",
       "_model_module_version": "1.5.0",
       "_model_name": "HBoxModel",
       "_view_count": null,
       "_view_module": "@jupyter-widgets/controls",
       "_view_module_version": "1.5.0",
       "_view_name": "HBoxView",
       "box_style": "",
       "children": [
        "IPY_MODEL_fa012b0f64b24a7e9e03606627f33896",
        "IPY_MODEL_fe5d26eeb073495598f7fb474e323226"
       ],
       "layout": "IPY_MODEL_601153d4a3dd4a61ad8280654a8763a7"
      }
     },
     "c910c17e8a894c0b84dea837141cc1a8": {
      "model_module": "@jupyter-widgets/base",
      "model_module_version": "1.2.0",
      "model_name": "LayoutModel",
      "state": {
       "_model_module": "@jupyter-widgets/base",
       "_model_module_version": "1.2.0",
       "_model_name": "LayoutModel",
       "_view_count": null,
       "_view_module": "@jupyter-widgets/base",
       "_view_module_version": "1.2.0",
       "_view_name": "LayoutView",
       "align_content": null,
       "align_items": null,
       "align_self": null,
       "border": null,
       "bottom": null,
       "display": null,
       "flex": null,
       "flex_flow": null,
       "grid_area": null,
       "grid_auto_columns": null,
       "grid_auto_flow": null,
       "grid_auto_rows": null,
       "grid_column": null,
       "grid_gap": null,
       "grid_row": null,
       "grid_template_areas": null,
       "grid_template_columns": null,
       "grid_template_rows": null,
       "height": null,
       "justify_content": null,
       "justify_items": null,
       "left": null,
       "margin": null,
       "max_height": null,
       "max_width": null,
       "min_height": null,
       "min_width": null,
       "object_fit": null,
       "object_position": null,
       "order": null,
       "overflow": null,
       "overflow_x": null,
       "overflow_y": null,
       "padding": null,
       "right": null,
       "top": null,
       "visibility": null,
       "width": null
      }
     },
     "cdeddab5acbe44c883898fa9a19fb129": {
      "model_module": "@jupyter-widgets/base",
      "model_module_version": "1.2.0",
      "model_name": "LayoutModel",
      "state": {
       "_model_module": "@jupyter-widgets/base",
       "_model_module_version": "1.2.0",
       "_model_name": "LayoutModel",
       "_view_count": null,
       "_view_module": "@jupyter-widgets/base",
       "_view_module_version": "1.2.0",
       "_view_name": "LayoutView",
       "align_content": null,
       "align_items": null,
       "align_self": null,
       "border": null,
       "bottom": null,
       "display": null,
       "flex": null,
       "flex_flow": null,
       "grid_area": null,
       "grid_auto_columns": null,
       "grid_auto_flow": null,
       "grid_auto_rows": null,
       "grid_column": null,
       "grid_gap": null,
       "grid_row": null,
       "grid_template_areas": null,
       "grid_template_columns": null,
       "grid_template_rows": null,
       "height": null,
       "justify_content": null,
       "justify_items": null,
       "left": null,
       "margin": null,
       "max_height": null,
       "max_width": null,
       "min_height": null,
       "min_width": null,
       "object_fit": null,
       "object_position": null,
       "order": null,
       "overflow": null,
       "overflow_x": null,
       "overflow_y": null,
       "padding": null,
       "right": null,
       "top": null,
       "visibility": null,
       "width": null
      }
     },
     "d11a016b06204a458b88ba9bd95d5eb4": {
      "model_module": "@jupyter-widgets/controls",
      "model_module_version": "1.5.0",
      "model_name": "HBoxModel",
      "state": {
       "_dom_classes": [],
       "_model_module": "@jupyter-widgets/controls",
       "_model_module_version": "1.5.0",
       "_model_name": "HBoxModel",
       "_view_count": null,
       "_view_module": "@jupyter-widgets/controls",
       "_view_module_version": "1.5.0",
       "_view_name": "HBoxView",
       "box_style": "",
       "children": [
        "IPY_MODEL_010026ce77ba476cb81ffa1393222929",
        "IPY_MODEL_b95d69d7ad1d40adb66cc23f2bc8a181"
       ],
       "layout": "IPY_MODEL_9efc5eb5ef854935a5ae2aadb83a63e6"
      }
     },
     "d7d0b9ce6cea4ce08463c80d4d08fb6c": {
      "model_module": "@jupyter-widgets/base",
      "model_module_version": "1.2.0",
      "model_name": "LayoutModel",
      "state": {
       "_model_module": "@jupyter-widgets/base",
       "_model_module_version": "1.2.0",
       "_model_name": "LayoutModel",
       "_view_count": null,
       "_view_module": "@jupyter-widgets/base",
       "_view_module_version": "1.2.0",
       "_view_name": "LayoutView",
       "align_content": null,
       "align_items": null,
       "align_self": null,
       "border": null,
       "bottom": null,
       "display": null,
       "flex": null,
       "flex_flow": null,
       "grid_area": null,
       "grid_auto_columns": null,
       "grid_auto_flow": null,
       "grid_auto_rows": null,
       "grid_column": null,
       "grid_gap": null,
       "grid_row": null,
       "grid_template_areas": null,
       "grid_template_columns": null,
       "grid_template_rows": null,
       "height": null,
       "justify_content": null,
       "justify_items": null,
       "left": null,
       "margin": null,
       "max_height": null,
       "max_width": null,
       "min_height": null,
       "min_width": null,
       "object_fit": null,
       "object_position": null,
       "order": null,
       "overflow": null,
       "overflow_x": null,
       "overflow_y": null,
       "padding": null,
       "right": null,
       "top": null,
       "visibility": null,
       "width": null
      }
     },
     "d887dbef3f3b4f25a5cd4c665cba2e92": {
      "model_module": "@jupyter-widgets/base",
      "model_module_version": "1.2.0",
      "model_name": "LayoutModel",
      "state": {
       "_model_module": "@jupyter-widgets/base",
       "_model_module_version": "1.2.0",
       "_model_name": "LayoutModel",
       "_view_count": null,
       "_view_module": "@jupyter-widgets/base",
       "_view_module_version": "1.2.0",
       "_view_name": "LayoutView",
       "align_content": null,
       "align_items": null,
       "align_self": null,
       "border": null,
       "bottom": null,
       "display": null,
       "flex": null,
       "flex_flow": null,
       "grid_area": null,
       "grid_auto_columns": null,
       "grid_auto_flow": null,
       "grid_auto_rows": null,
       "grid_column": null,
       "grid_gap": null,
       "grid_row": null,
       "grid_template_areas": null,
       "grid_template_columns": null,
       "grid_template_rows": null,
       "height": null,
       "justify_content": null,
       "justify_items": null,
       "left": null,
       "margin": null,
       "max_height": null,
       "max_width": null,
       "min_height": null,
       "min_width": null,
       "object_fit": null,
       "object_position": null,
       "order": null,
       "overflow": null,
       "overflow_x": null,
       "overflow_y": null,
       "padding": null,
       "right": null,
       "top": null,
       "visibility": null,
       "width": null
      }
     },
     "da721dbf6f8946f0ab6fbb6737f1c763": {
      "model_module": "@jupyter-widgets/controls",
      "model_module_version": "1.5.0",
      "model_name": "ProgressStyleModel",
      "state": {
       "_model_module": "@jupyter-widgets/controls",
       "_model_module_version": "1.5.0",
       "_model_name": "ProgressStyleModel",
       "_view_count": null,
       "_view_module": "@jupyter-widgets/base",
       "_view_module_version": "1.2.0",
       "_view_name": "StyleView",
       "bar_color": null,
       "description_width": "initial"
      }
     },
     "dba36802f54e4a918d9ab3a67562f113": {
      "model_module": "@jupyter-widgets/controls",
      "model_module_version": "1.5.0",
      "model_name": "HBoxModel",
      "state": {
       "_dom_classes": [],
       "_model_module": "@jupyter-widgets/controls",
       "_model_module_version": "1.5.0",
       "_model_name": "HBoxModel",
       "_view_count": null,
       "_view_module": "@jupyter-widgets/controls",
       "_view_module_version": "1.5.0",
       "_view_name": "HBoxView",
       "box_style": "",
       "children": [
        "IPY_MODEL_23f331111b5e42dd8f9a54b878d3bd22",
        "IPY_MODEL_87a01ce4f3e943ab9c8622f30db73563"
       ],
       "layout": "IPY_MODEL_d7d0b9ce6cea4ce08463c80d4d08fb6c"
      }
     },
     "dc4a2ee9891144faacaa2265ca5f5f3e": {
      "model_module": "@jupyter-widgets/base",
      "model_module_version": "1.2.0",
      "model_name": "LayoutModel",
      "state": {
       "_model_module": "@jupyter-widgets/base",
       "_model_module_version": "1.2.0",
       "_model_name": "LayoutModel",
       "_view_count": null,
       "_view_module": "@jupyter-widgets/base",
       "_view_module_version": "1.2.0",
       "_view_name": "LayoutView",
       "align_content": null,
       "align_items": null,
       "align_self": null,
       "border": null,
       "bottom": null,
       "display": null,
       "flex": null,
       "flex_flow": null,
       "grid_area": null,
       "grid_auto_columns": null,
       "grid_auto_flow": null,
       "grid_auto_rows": null,
       "grid_column": null,
       "grid_gap": null,
       "grid_row": null,
       "grid_template_areas": null,
       "grid_template_columns": null,
       "grid_template_rows": null,
       "height": null,
       "justify_content": null,
       "justify_items": null,
       "left": null,
       "margin": null,
       "max_height": null,
       "max_width": null,
       "min_height": null,
       "min_width": null,
       "object_fit": null,
       "object_position": null,
       "order": null,
       "overflow": null,
       "overflow_x": null,
       "overflow_y": null,
       "padding": null,
       "right": null,
       "top": null,
       "visibility": null,
       "width": null
      }
     },
     "e17426226fcc48ea875b470db32cac45": {
      "model_module": "@jupyter-widgets/controls",
      "model_module_version": "1.5.0",
      "model_name": "HTMLModel",
      "state": {
       "_dom_classes": [],
       "_model_module": "@jupyter-widgets/controls",
       "_model_module_version": "1.5.0",
       "_model_name": "HTMLModel",
       "_view_count": null,
       "_view_module": "@jupyter-widgets/controls",
       "_view_module_version": "1.5.0",
       "_view_name": "HTMLView",
       "description": "",
       "description_tooltip": null,
       "layout": "IPY_MODEL_4f8cc63a894249c794dd7ffa06c50fe0",
       "placeholder": "​",
       "style": "IPY_MODEL_affac106402b47069c4e5e55390f6880",
       "value": " 1.71M/1.71M [00:01&lt;00:00, 1.23MB/s]"
      }
     },
     "ea3fbad326034e48a98cd1da6d286f56": {
      "model_module": "@jupyter-widgets/base",
      "model_module_version": "1.2.0",
      "model_name": "LayoutModel",
      "state": {
       "_model_module": "@jupyter-widgets/base",
       "_model_module_version": "1.2.0",
       "_model_name": "LayoutModel",
       "_view_count": null,
       "_view_module": "@jupyter-widgets/base",
       "_view_module_version": "1.2.0",
       "_view_name": "LayoutView",
       "align_content": null,
       "align_items": null,
       "align_self": null,
       "border": null,
       "bottom": null,
       "display": null,
       "flex": null,
       "flex_flow": null,
       "grid_area": null,
       "grid_auto_columns": null,
       "grid_auto_flow": null,
       "grid_auto_rows": null,
       "grid_column": null,
       "grid_gap": null,
       "grid_row": null,
       "grid_template_areas": null,
       "grid_template_columns": null,
       "grid_template_rows": null,
       "height": null,
       "justify_content": null,
       "justify_items": null,
       "left": null,
       "margin": null,
       "max_height": null,
       "max_width": null,
       "min_height": null,
       "min_width": null,
       "object_fit": null,
       "object_position": null,
       "order": null,
       "overflow": null,
       "overflow_x": null,
       "overflow_y": null,
       "padding": null,
       "right": null,
       "top": null,
       "visibility": null,
       "width": null
      }
     },
     "ecb80af94f374a69bc8fc41ec356a5fd": {
      "model_module": "@jupyter-widgets/controls",
      "model_module_version": "1.5.0",
      "model_name": "HTMLModel",
      "state": {
       "_dom_classes": [],
       "_model_module": "@jupyter-widgets/controls",
       "_model_module_version": "1.5.0",
       "_model_name": "HTMLModel",
       "_view_count": null,
       "_view_module": "@jupyter-widgets/controls",
       "_view_module_version": "1.5.0",
       "_view_name": "HTMLView",
       "description": "",
       "description_tooltip": null,
       "layout": "IPY_MODEL_759e885f63444c2aa21dc752f17e0621",
       "placeholder": "​",
       "style": "IPY_MODEL_bf49882d613e4e25983e488497731f03",
       "value": " 20.2k/20.2k [00:00&lt;00:00, 228kB/s]"
      }
     },
     "f198c131b3f64b7a8572fb8e4546c55d": {
      "model_module": "@jupyter-widgets/controls",
      "model_module_version": "1.5.0",
      "model_name": "FloatProgressModel",
      "state": {
       "_dom_classes": [],
       "_model_module": "@jupyter-widgets/controls",
       "_model_module_version": "1.5.0",
       "_model_name": "FloatProgressModel",
       "_view_count": null,
       "_view_module": "@jupyter-widgets/controls",
       "_view_module_version": "1.5.0",
       "_view_name": "ProgressView",
       "bar_style": "success",
       "description": "100%",
       "description_tooltip": null,
       "layout": "IPY_MODEL_51e2f1e165dc41008247687ea4c4e4bb",
       "max": 2.0,
       "min": 0.0,
       "orientation": "horizontal",
       "style": "IPY_MODEL_414d75ddf1ea4deeb0b4aaa338f12acf",
       "value": 2.0
      }
     },
     "f30a1b1e1dda45da8be470be4d954ece": {
      "model_module": "@jupyter-widgets/base",
      "model_module_version": "1.2.0",
      "model_name": "LayoutModel",
      "state": {
       "_model_module": "@jupyter-widgets/base",
       "_model_module_version": "1.2.0",
       "_model_name": "LayoutModel",
       "_view_count": null,
       "_view_module": "@jupyter-widgets/base",
       "_view_module_version": "1.2.0",
       "_view_name": "LayoutView",
       "align_content": null,
       "align_items": null,
       "align_self": null,
       "border": null,
       "bottom": null,
       "display": null,
       "flex": null,
       "flex_flow": null,
       "grid_area": null,
       "grid_auto_columns": null,
       "grid_auto_flow": null,
       "grid_auto_rows": null,
       "grid_column": null,
       "grid_gap": null,
       "grid_row": null,
       "grid_template_areas": null,
       "grid_template_columns": null,
       "grid_template_rows": null,
       "height": null,
       "justify_content": null,
       "justify_items": null,
       "left": null,
       "margin": null,
       "max_height": null,
       "max_width": null,
       "min_height": null,
       "min_width": null,
       "object_fit": null,
       "object_position": null,
       "order": null,
       "overflow": null,
       "overflow_x": null,
       "overflow_y": null,
       "padding": null,
       "right": null,
       "top": null,
       "visibility": null,
       "width": null
      }
     },
     "f512554094fa4e50bb1acdb3e8e5a191": {
      "model_module": "@jupyter-widgets/base",
      "model_module_version": "1.2.0",
      "model_name": "LayoutModel",
      "state": {
       "_model_module": "@jupyter-widgets/base",
       "_model_module_version": "1.2.0",
       "_model_name": "LayoutModel",
       "_view_count": null,
       "_view_module": "@jupyter-widgets/base",
       "_view_module_version": "1.2.0",
       "_view_name": "LayoutView",
       "align_content": null,
       "align_items": null,
       "align_self": null,
       "border": null,
       "bottom": null,
       "display": null,
       "flex": null,
       "flex_flow": null,
       "grid_area": null,
       "grid_auto_columns": null,
       "grid_auto_flow": null,
       "grid_auto_rows": null,
       "grid_column": null,
       "grid_gap": null,
       "grid_row": null,
       "grid_template_areas": null,
       "grid_template_columns": null,
       "grid_template_rows": null,
       "height": null,
       "justify_content": null,
       "justify_items": null,
       "left": null,
       "margin": null,
       "max_height": null,
       "max_width": null,
       "min_height": null,
       "min_width": null,
       "object_fit": null,
       "object_position": null,
       "order": null,
       "overflow": null,
       "overflow_x": null,
       "overflow_y": null,
       "padding": null,
       "right": null,
       "top": null,
       "visibility": null,
       "width": null
      }
     },
     "f6a35273cd284d8985dbfe814684ce0b": {
      "model_module": "@jupyter-widgets/base",
      "model_module_version": "1.2.0",
      "model_name": "LayoutModel",
      "state": {
       "_model_module": "@jupyter-widgets/base",
       "_model_module_version": "1.2.0",
       "_model_name": "LayoutModel",
       "_view_count": null,
       "_view_module": "@jupyter-widgets/base",
       "_view_module_version": "1.2.0",
       "_view_name": "LayoutView",
       "align_content": null,
       "align_items": null,
       "align_self": null,
       "border": null,
       "bottom": null,
       "display": null,
       "flex": null,
       "flex_flow": null,
       "grid_area": null,
       "grid_auto_columns": null,
       "grid_auto_flow": null,
       "grid_auto_rows": null,
       "grid_column": null,
       "grid_gap": null,
       "grid_row": null,
       "grid_template_areas": null,
       "grid_template_columns": null,
       "grid_template_rows": null,
       "height": null,
       "justify_content": null,
       "justify_items": null,
       "left": null,
       "margin": null,
       "max_height": null,
       "max_width": null,
       "min_height": null,
       "min_width": null,
       "object_fit": null,
       "object_position": null,
       "order": null,
       "overflow": null,
       "overflow_x": null,
       "overflow_y": null,
       "padding": null,
       "right": null,
       "top": null,
       "visibility": null,
       "width": null
      }
     },
     "f74382031da949cf847c476aafe73496": {
      "model_module": "@jupyter-widgets/controls",
      "model_module_version": "1.5.0",
      "model_name": "ProgressStyleModel",
      "state": {
       "_model_module": "@jupyter-widgets/controls",
       "_model_module_version": "1.5.0",
       "_model_name": "ProgressStyleModel",
       "_view_count": null,
       "_view_module": "@jupyter-widgets/base",
       "_view_module_version": "1.2.0",
       "_view_name": "StyleView",
       "bar_color": null,
       "description_width": "initial"
      }
     },
     "fa012b0f64b24a7e9e03606627f33896": {
      "model_module": "@jupyter-widgets/controls",
      "model_module_version": "1.5.0",
      "model_name": "FloatProgressModel",
      "state": {
       "_dom_classes": [],
       "_model_module": "@jupyter-widgets/controls",
       "_model_module_version": "1.5.0",
       "_model_name": "FloatProgressModel",
       "_view_count": null,
       "_view_module": "@jupyter-widgets/controls",
       "_view_module_version": "1.5.0",
       "_view_name": "ProgressView",
       "bar_style": "success",
       "description": "100%",
       "description_tooltip": null,
       "layout": "IPY_MODEL_66c730f1d92f403093bd8d249e67f5c9",
       "max": 6.0,
       "min": 0.0,
       "orientation": "horizontal",
       "style": "IPY_MODEL_c09e85c85eb2442fa921c43290d18e67",
       "value": 6.0
      }
     },
     "fb074a7a294846ca85c394ef0a823c9b": {
      "model_module": "@jupyter-widgets/base",
      "model_module_version": "1.2.0",
      "model_name": "LayoutModel",
      "state": {
       "_model_module": "@jupyter-widgets/base",
       "_model_module_version": "1.2.0",
       "_model_name": "LayoutModel",
       "_view_count": null,
       "_view_module": "@jupyter-widgets/base",
       "_view_module_version": "1.2.0",
       "_view_name": "LayoutView",
       "align_content": null,
       "align_items": null,
       "align_self": null,
       "border": null,
       "bottom": null,
       "display": null,
       "flex": null,
       "flex_flow": null,
       "grid_area": null,
       "grid_auto_columns": null,
       "grid_auto_flow": null,
       "grid_auto_rows": null,
       "grid_column": null,
       "grid_gap": null,
       "grid_row": null,
       "grid_template_areas": null,
       "grid_template_columns": null,
       "grid_template_rows": null,
       "height": null,
       "justify_content": null,
       "justify_items": null,
       "left": null,
       "margin": null,
       "max_height": null,
       "max_width": null,
       "min_height": null,
       "min_width": null,
       "object_fit": null,
       "object_position": null,
       "order": null,
       "overflow": null,
       "overflow_x": null,
       "overflow_y": null,
       "padding": null,
       "right": null,
       "top": null,
       "visibility": null,
       "width": null
      }
     },
     "fe5d26eeb073495598f7fb474e323226": {
      "model_module": "@jupyter-widgets/controls",
      "model_module_version": "1.5.0",
      "model_name": "HTMLModel",
      "state": {
       "_dom_classes": [],
       "_model_module": "@jupyter-widgets/controls",
       "_model_module_version": "1.5.0",
       "_model_name": "HTMLModel",
       "_view_count": null,
       "_view_module": "@jupyter-widgets/controls",
       "_view_module_version": "1.5.0",
       "_view_name": "HTMLView",
       "description": "",
       "description_tooltip": null,
       "layout": "IPY_MODEL_b81e9461e6da47c3a19fd876172faf93",
       "placeholder": "​",
       "style": "IPY_MODEL_6cbd8dbf824840919f03ca7cb52713d1",
       "value": " 6/6 [00:59&lt;00:00,  9.97s/ba]"
      }
     }
    },
    "version_major": 2,
    "version_minor": 0
   }
  }
 },
 "nbformat": 4,
 "nbformat_minor": 4
}
