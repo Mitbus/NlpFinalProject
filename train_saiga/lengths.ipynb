{
 "cells": [
  {
   "cell_type": "code",
   "execution_count": 1,
   "metadata": {},
   "outputs": [
    {
     "name": "stderr",
     "output_type": "stream",
     "text": [
      "Special tokens have been added in the vocabulary, make sure the associated word embeddings are fine-tuned or trained.\n",
      "Special tokens have been added in the vocabulary, make sure the associated word embeddings are fine-tuned or trained.\n",
      "Found cached dataset json (/home/jovyan/.cache/huggingface/datasets/json/default-94ebea54a4ca20e8/0.0.0/8bb11242116d547c741b2e8a1f18598ffdd40a1d4f2a2872c7a28b697434bc96)\n"
     ]
    },
    {
     "data": {
      "application/vnd.jupyter.widget-view+json": {
       "model_id": "dfcec3f4ddb64602a90641eac43f62f7",
       "version_major": 2,
       "version_minor": 0
      },
      "text/plain": [
       "  0%|          | 0/1 [00:00<?, ?it/s]"
      ]
     },
     "metadata": {},
     "output_type": "display_data"
    },
    {
     "data": {
      "application/vnd.jupyter.widget-view+json": {
       "model_id": "1a36d75ff8f141c69efbcc2f9053666b",
       "version_major": 2,
       "version_minor": 0
      },
      "text/plain": [
       "Map:   0%|          | 0/5824 [00:00<?, ? examples/s]"
      ]
     },
     "metadata": {},
     "output_type": "display_data"
    }
   ],
   "source": [
    "from datasets import load_dataset\n",
    "from transformers import AutoTokenizer\n",
    "import matplotlib.pyplot as plt\n",
    "\n",
    "tokenizer = AutoTokenizer.from_pretrained(\n",
    "    \"Open-Orca/Mistral-7B-OpenOrca\", add_eos_token=True\n",
    ")\n",
    "data = load_dataset(\"json\", data_files=\"lora-saiga/train_data.json\")\n",
    "\n",
    "\n",
    "def generate_prompt(data_point, long_prompt=False):\n",
    "    if long_prompt:\n",
    "        return f\"\"\"\\\n",
    "Ты — русскоязычный автоматический ассистент. Твоя задача: внимательно отвечать на вопросы пользователя, расписывая решение по шагам и выполняя одно арифметическое действие за раз. Тебе необходимо пользоваться калькулятором вместо того, чтобы считать результат арифметического выражения самостоятельно. Для этого помести математическое выражение между тэгами \\\"<calculator>\\\" и \\\"</calculator>\\\", чтобы вызвать функцию калькулятора и узнать ответ. Используй \\\"+\\\" для сложения, \\\"-\\\" для вычитания, \\\"*\\\" для умножения, \\\"/\\\" для деления чисел. Финальный ответ напиши в самом конце в поле \\\"Ответ:\\\". Начнем!\n",
    "\n",
    "### Задача:\n",
    "{data_point[\"instruction\"]}\n",
    "\n",
    "### Решение:\n",
    "{data_point[\"output\"]}\"\"\"\n",
    "    else:\n",
    "        return f\"\"\"\\\n",
    "<s>system\n",
    "Ты — Сайга, русскоязычный автоматический ассистент. Ты разговариваешь с людьми и помогаешь им.</s>\n",
    "<s>user\n",
    "{data_point[\"instruction\"]} Распиши решение по шагам и выведи ответ в конце.</s>\n",
    "<s>bot\n",
    "{data_point[\"output\"]}\"\"\"\n",
    "\n",
    "\n",
    "data = data.map(\n",
    "    lambda data_point: {\"prompt\": tokenizer(generate_prompt(data_point))}\n",
    ")"
   ]
  },
  {
   "cell_type": "markdown",
   "metadata": {},
   "source": [
    "### Long prompt"
   ]
  },
  {
   "cell_type": "code",
   "execution_count": 42,
   "metadata": {},
   "outputs": [
    {
     "name": "stdout",
     "output_type": "stream",
     "text": [
      "Cutoff: 768\n",
      "Samples: 2.5584%\n",
      "Tokens: 0.3476%\n"
     ]
    }
   ],
   "source": [
    "cutoff = 768\n",
    "lens = [len(x[\"prompt\"][\"input_ids\"]) for x in data[\"train\"]]\n",
    "examples_cut_rate = sum(x > cutoff for x in lens) / len(lens)\n",
    "tokens_cut_rate = sum(x - cutoff for x in lens if x > cutoff) / sum(lens)\n",
    "print(f'Cutoff: {cutoff}\\nSamples: {100 * examples_cut_rate:.4f}%\\nTokens: {100 * tokens_cut_rate:.4f}%')"
   ]
  },
  {
   "cell_type": "code",
   "execution_count": 43,
   "metadata": {},
   "outputs": [
    {
     "name": "stdout",
     "output_type": "stream",
     "text": [
      "Cutoff: 832\n",
      "Samples: 1.0474%\n",
      "Tokens: 0.1355%\n"
     ]
    }
   ],
   "source": [
    "cutoff = 832\n",
    "lens = [len(x[\"prompt\"][\"input_ids\"]) for x in data[\"train\"]]\n",
    "examples_cut_rate = sum(x > cutoff for x in lens) / len(lens)\n",
    "tokens_cut_rate = sum(x - cutoff for x in lens if x > cutoff) / sum(lens)\n",
    "print(f'Cutoff: {cutoff}\\nSamples: {100 * examples_cut_rate:.4f}%\\nTokens: {100 * tokens_cut_rate:.4f}%')"
   ]
  },
  {
   "cell_type": "code",
   "execution_count": 44,
   "metadata": {},
   "outputs": [
    {
     "name": "stdout",
     "output_type": "stream",
     "text": [
      "Cutoff: 848\n",
      "Samples: 0.8585%\n",
      "Tokens: 0.1069%\n"
     ]
    }
   ],
   "source": [
    "cutoff = 848\n",
    "lens = [len(x[\"prompt\"][\"input_ids\"]) for x in data[\"train\"]]\n",
    "examples_cut_rate = sum(x > cutoff for x in lens) / len(lens)\n",
    "tokens_cut_rate = sum(x - cutoff for x in lens if x > cutoff) / sum(lens)\n",
    "print(f'Cutoff: {cutoff}\\nSamples: {100 * examples_cut_rate:.4f}%\\nTokens: {100 * tokens_cut_rate:.4f}%')"
   ]
  },
  {
   "cell_type": "code",
   "execution_count": 45,
   "metadata": {},
   "outputs": [
    {
     "data": {
      "image/png": "[encoded data removed]",
      "text/plain": [
       "<Figure size 640x480 with 1 Axes>"
      ]
     },
     "metadata": {},
     "output_type": "display_data"
    }
   ],
   "source": [
    "plt.hist([x for x in lens if x > 100], bins=100)\n",
    "plt.title(\"Distribution of prompt lengths\")\n",
    "plt.axvline(cutoff, color=\"red\")\n",
    "plt.show()"
   ]
  },
  {
   "cell_type": "markdown",
   "metadata": {},
   "source": [
    "### Short prompt"
   ]
  },
  {
   "cell_type": "code",
   "execution_count": 7,
   "metadata": {},
   "outputs": [
    {
     "name": "stdout",
     "output_type": "stream",
     "text": [
      "Cutoff: 640\n",
      "Samples: 1.7342%\n",
      "Tokens: 0.3314%\n"
     ]
    }
   ],
   "source": [
    "cutoff = 640\n",
    "lens = [len(x[\"prompt\"][\"input_ids\"]) for x in data[\"train\"]]\n",
    "examples_cut_rate = sum(x > cutoff for x in lens) / len(lens)\n",
    "tokens_cut_rate = sum(x - cutoff for x in lens if x > cutoff) / sum(lens)\n",
    "print(f'Cutoff: {cutoff}\\nSamples: {100 * examples_cut_rate:.4f}%\\nTokens: {100 * tokens_cut_rate:.4f}%')"
   ]
  },
  {
   "cell_type": "code",
   "execution_count": 8,
   "metadata": {},
   "outputs": [
    {
     "name": "stdout",
     "output_type": "stream",
     "text": [
      "Cutoff: 672\n",
      "Samples: 1.0989%\n",
      "Tokens: 0.2058%\n"
     ]
    }
   ],
   "source": [
    "cutoff = 672\n",
    "lens = [len(x[\"prompt\"][\"input_ids\"]) for x in data[\"train\"]]\n",
    "examples_cut_rate = sum(x > cutoff for x in lens) / len(lens)\n",
    "tokens_cut_rate = sum(x - cutoff for x in lens if x > cutoff) / sum(lens)\n",
    "print(f'Cutoff: {cutoff}\\nSamples: {100 * examples_cut_rate:.4f}%\\nTokens: {100 * tokens_cut_rate:.4f}%')"
   ]
  },
  {
   "cell_type": "code",
   "execution_count": 11,
   "metadata": {},
   "outputs": [
    {
     "name": "stdout",
     "output_type": "stream",
     "text": [
      "Cutoff: 688\n",
      "Samples: 0.8585%\n",
      "Tokens: 0.1624%\n"
     ]
    }
   ],
   "source": [
    "cutoff = 688\n",
    "lens = [len(x[\"prompt\"][\"input_ids\"]) for x in data[\"train\"]]\n",
    "examples_cut_rate = sum(x > cutoff for x in lens) / len(lens)\n",
    "tokens_cut_rate = sum(x - cutoff for x in lens if x > cutoff) / sum(lens)\n",
    "print(f'Cutoff: {cutoff}\\nSamples: {100 * examples_cut_rate:.4f}%\\nTokens: {100 * tokens_cut_rate:.4f}%')"
   ]
  },
  {
   "cell_type": "code",
   "execution_count": 12,
   "metadata": {},
   "outputs": [
    {
     "data": {
      "image/png": "[encoded data removed]",
      "text/plain": [
       "<Figure size 640x480 with 1 Axes>"
      ]
     },
     "metadata": {},
     "output_type": "display_data"
    }
   ],
   "source": [
    "plt.hist([x for x in lens if x > 100], bins=100)\n",
    "plt.title(\"Distribution of prompt lengths\")\n",
    "plt.axvline(cutoff, color=\"red\")\n",
    "plt.show()"
   ]
  },
  {
   "cell_type": "code",
   "execution_count": null,
   "metadata": {},
   "outputs": [],
   "source": []
  }
 ],
 "metadata": {
  "kernelspec": {
   "display_name": "dl3",
   "language": "python",
   "name": "python3"
  },
  "language_info": {
   "codemirror_mode": {
    "name": "ipython",
    "version": 3
   },
   "file_extension": ".py",
   "mimetype": "text/x-python",
   "name": "python",
   "nbconvert_exporter": "python",
   "pygments_lexer": "ipython3",
   "version": "3.9.16"
  },
  "orig_nbformat": 4,
  "vscode": {
   "interpreter": {
    "hash": "90bfda469df5ac7fed8d7e225d563f60a7a7aa420ccfadb091c914debf775e49"
   }
  }
 },
 "nbformat": 4,
 "nbformat_minor": 2
}
