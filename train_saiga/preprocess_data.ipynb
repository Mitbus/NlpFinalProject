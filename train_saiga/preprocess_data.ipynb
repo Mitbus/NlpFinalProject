{
 "cells": [
  {
   "cell_type": "code",
   "execution_count": 5,
   "metadata": {},
   "outputs": [],
   "source": [
    "import json\n",
    "import pandas as pd"
   ]
  },
  {
   "cell_type": "code",
   "execution_count": 6,
   "metadata": {},
   "outputs": [
    {
     "data": {
      "text/html": [
       "<div>\n",
       "<style scoped>\n",
       "    .dataframe tbody tr th:only-of-type {\n",
       "        vertical-align: middle;\n",
       "    }\n",
       "\n",
       "    .dataframe tbody tr th {\n",
       "        vertical-align: top;\n",
       "    }\n",
       "\n",
       "    .dataframe thead th {\n",
       "        text-align: right;\n",
       "    }\n",
       "</style>\n",
       "<table border=\"1\" class=\"dataframe\">\n",
       "  <thead>\n",
       "    <tr style=\"text-align: right;\">\n",
       "      <th></th>\n",
       "      <th>question</th>\n",
       "      <th>answer</th>\n",
       "    </tr>\n",
       "  </thead>\n",
       "  <tbody>\n",
       "    <tr>\n",
       "      <th>0</th>\n",
       "      <td>В апреле Наталья продала 48 клипов своим друзь...</td>\n",
       "      <td>Наталья продала 48 / 2 = &lt;calculator&gt;48 / 2&lt;/c...</td>\n",
       "    </tr>\n",
       "    <tr>\n",
       "      <th>1</th>\n",
       "      <td>Венг зарабатывает 12 долларов в час за присмот...</td>\n",
       "      <td>Венг зарабатывает $12 / 60 = $&lt;calculator&gt;12 /...</td>\n",
       "    </tr>\n",
       "    <tr>\n",
       "      <th>2</th>\n",
       "      <td>Бетти копит деньги на новый бумажник, который ...</td>\n",
       "      <td>Вначале у Бетти было $100 / 2 = $&lt;calculator&gt;1...</td>\n",
       "    </tr>\n",
       "    <tr>\n",
       "      <th>3</th>\n",
       "      <td>Джули читает книгу на 120 страниц. Вчера она с...</td>\n",
       "      <td>Сегодня Майла прочитала 12 * 2 = &lt;calculator&gt;1...</td>\n",
       "    </tr>\n",
       "    <tr>\n",
       "      <th>4</th>\n",
       "      <td>Джеймс пишет письмо на 3 страницы 2 разным дру...</td>\n",
       "      <td>Он пишет каждому другу 3 * 2 = &lt;calculator&gt;3 *...</td>\n",
       "    </tr>\n",
       "    <tr>\n",
       "      <th>...</th>\n",
       "      <td>...</td>\n",
       "      <td>...</td>\n",
       "    </tr>\n",
       "    <tr>\n",
       "      <th>5819</th>\n",
       "      <td>У Пола 52 шарика. Его друг дал ему 28 шариков....</td>\n",
       "      <td>Всего у Пола 52 + 28 = &lt;calculator&gt;52 + 28&lt;/ca...</td>\n",
       "    </tr>\n",
       "    <tr>\n",
       "      <th>5820</th>\n",
       "      <td>Стивен занял у своей сестры 300 долларов и поо...</td>\n",
       "      <td>Стивен заплатит дополнительно 300 долларов * 2...</td>\n",
       "    </tr>\n",
       "    <tr>\n",
       "      <th>5821</th>\n",
       "      <td>Кира купила в продуктовом магазине 3 яблока, 5...</td>\n",
       "      <td>Кира купила 3 + 5 + 6 = &lt;calculator&gt;3 + 5 + 6&lt;...</td>\n",
       "    </tr>\n",
       "    <tr>\n",
       "      <th>5822</th>\n",
       "      <td>В конце учебного года Кейт спросила своего учи...</td>\n",
       "      <td>Она смогла получить 3 коробки по 64 мелка, поэ...</td>\n",
       "    </tr>\n",
       "    <tr>\n",
       "      <th>5823</th>\n",
       "      <td>Салли покупает одну маленькую пиццу за 8 долла...</td>\n",
       "      <td>Стоимость пиццы для всей семьи составляет 3 * ...</td>\n",
       "    </tr>\n",
       "  </tbody>\n",
       "</table>\n",
       "<p>5824 rows × 2 columns</p>\n",
       "</div>"
      ],
      "text/plain": [
       "                                               question  \\\n",
       "0     В апреле Наталья продала 48 клипов своим друзь...   \n",
       "1     Венг зарабатывает 12 долларов в час за присмот...   \n",
       "2     Бетти копит деньги на новый бумажник, который ...   \n",
       "3     Джули читает книгу на 120 страниц. Вчера она с...   \n",
       "4     Джеймс пишет письмо на 3 страницы 2 разным дру...   \n",
       "...                                                 ...   \n",
       "5819  У Пола 52 шарика. Его друг дал ему 28 шариков....   \n",
       "5820  Стивен занял у своей сестры 300 долларов и поо...   \n",
       "5821  Кира купила в продуктовом магазине 3 яблока, 5...   \n",
       "5822  В конце учебного года Кейт спросила своего учи...   \n",
       "5823  Салли покупает одну маленькую пиццу за 8 долла...   \n",
       "\n",
       "                                                 answer  \n",
       "0     Наталья продала 48 / 2 = <calculator>48 / 2</c...  \n",
       "1     Венг зарабатывает $12 / 60 = $<calculator>12 /...  \n",
       "2     Вначале у Бетти было $100 / 2 = $<calculator>1...  \n",
       "3     Сегодня Майла прочитала 12 * 2 = <calculator>1...  \n",
       "4     Он пишет каждому другу 3 * 2 = <calculator>3 *...  \n",
       "...                                                 ...  \n",
       "5819  Всего у Пола 52 + 28 = <calculator>52 + 28</ca...  \n",
       "5820  Стивен заплатит дополнительно 300 долларов * 2...  \n",
       "5821  Кира купила 3 + 5 + 6 = <calculator>3 + 5 + 6<...  \n",
       "5822  Она смогла получить 3 коробки по 64 мелка, поэ...  \n",
       "5823  Стоимость пиццы для всей семьи составляет 3 * ...  \n",
       "\n",
       "[5824 rows x 2 columns]"
      ]
     },
     "execution_count": 6,
     "metadata": {},
     "output_type": "execute_result"
    }
   ],
   "source": [
    "df = pd.read_csv('../gsm_train.csv')\n",
    "df"
   ]
  },
  {
   "cell_type": "code",
   "execution_count": 7,
   "metadata": {},
   "outputs": [],
   "source": [
    "data = []\n",
    "for row in df.to_dict('records'):\n",
    "    data.append({\n",
    "        'instruction': row['question'],\n",
    "        'output': row['answer'].replace('####', 'Ответ:')\n",
    "    })"
   ]
  },
  {
   "cell_type": "code",
   "execution_count": 4,
   "metadata": {},
   "outputs": [],
   "source": [
    "with open('lora-saiga/train_data.json', 'w') as f_out:\n",
    "    json.dump(data, f_out, ensure_ascii=False, indent=2)"
   ]
  },
  {
   "cell_type": "code",
   "execution_count": 5,
   "metadata": {},
   "outputs": [],
   "source": [
    "df = pd.read_csv('../gsm_test.csv')\n",
    "data = []\n",
    "for row in df.to_dict('records'):\n",
    "    data.append({\n",
    "        'instruction': row['question'],\n",
    "        'output': row['answer'].replace('####', 'Ответ:')\n",
    "    })\n",
    "with open('lora-saiga/test_data.json', 'w') as f_out:\n",
    "    json.dump(data, f_out, ensure_ascii=False, indent=2)"
   ]
  },
  {
   "cell_type": "markdown",
   "metadata": {},
   "source": [
    "### Test"
   ]
  },
  {
   "cell_type": "code",
   "execution_count": 1,
   "metadata": {},
   "outputs": [],
   "source": [
    "from utils.prompter import Prompter"
   ]
  },
  {
   "cell_type": "code",
   "execution_count": 8,
   "metadata": {},
   "outputs": [
    {
     "name": "stdout",
     "output_type": "stream",
     "text": [
      "Using prompt template saiga_short: Template used for calculations with Saiga (short prompt in chat style).\n"
     ]
    }
   ],
   "source": [
    "prompter = Prompter('saiga_short', verbose=True)"
   ]
  },
  {
   "cell_type": "code",
   "execution_count": 11,
   "metadata": {},
   "outputs": [
    {
     "name": "stdout",
     "output_type": "stream",
     "text": [
      "<s>system\n",
      "Ты — Сайга, русскоязычный автоматический ассистент. Ты разговариваешь с людьми и помогаешь им.</s>\n",
      "<s>user\n",
      "В апреле Наталья продала 48 клипов своим друзьям, а в мае продала вдвое меньше клипов. Сколько всего клипов продала Наталья в апреле и мае? Распиши решение по шагам и выведи ответ в конце.</s>\n",
      "<s>bot\n",
      "Наталья продала 48 / 2 = <calculator>48 / 2</calculator>24 клипа в мае.\n",
      "Всего за апрель и май Наталья продала 48 + 24 = <calculator>48 + 24</calculator>72 клипа.\n",
      "Ответ: 72</s>\n"
     ]
    }
   ],
   "source": [
    "prompt = prompter.generate_prompt(\n",
    "    instruction=data[0][\"instruction\"],\n",
    "    output=data[0][\"output\"] + '</s>',\n",
    ")"
   ]
  },
  {
   "cell_type": "code",
   "execution_count": null,
   "metadata": {},
   "outputs": [],
   "source": []
  }
 ],
 "metadata": {
  "interpreter": {
   "hash": "f485e29d39fc9de2946f661002854e508c0b40ef6d04a5189129580f181e06c2"
  },
  "kernelspec": {
   "display_name": "Python 3.9.16 ('py39_env')",
   "language": "python",
   "name": "python3"
  },
  "language_info": {
   "codemirror_mode": {
    "name": "ipython",
    "version": 3
   },
   "file_extension": ".py",
   "mimetype": "text/x-python",
   "name": "python",
   "nbconvert_exporter": "python",
   "pygments_lexer": "ipython3",
   "version": "3.9.16"
  },
  "orig_nbformat": 4
 },
 "nbformat": 4,
 "nbformat_minor": 2
}
